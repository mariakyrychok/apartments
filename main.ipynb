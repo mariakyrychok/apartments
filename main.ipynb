{
 "cells": [
  {
   "cell_type": "markdown",
   "metadata": {
    "collapsed": true,
    "pycharm": {
     "name": "#%% md\n"
    }
   },
   "source": [
    "# Apartment Sale Listings Research\n",
    "\n",
    "You have access to data from the Yande service — a database of apartment sale listings in St. Petersburg and neighboring areas spanning several years. The goal is to learn how to determine the market value of real estate properties. Your task is to establish parameters. This will enable the creation of an automated system that can detect anomalies and fraudulent activities.\n",
    "\n",
    "For each apartment for sale, two types of data are available. The first type is entered by the user, while the second type is automatically obtained based on cartographic data. For example, the distance to the city center, airport, nearest park, and water body."
   ]
  },
  {
   "cell_type": "markdown",
   "metadata": {
    "pycharm": {
     "name": "#%% md\n"
    }
   },
   "source": [
    "## Studying data from a file"
   ]
  },
  {
   "cell_type": "code",
   "execution_count": null,
   "metadata": {
    "pycharm": {
     "name": "#%%\n"
    }
   },
   "outputs": [],
   "source": [
    "import pandas as pd\n",
    "from IPython.display import display\n",
    "\n",
    "data = pd.read_csv('real_estate_data.csv')\n",
    "display(data.head())"
   ]
  },
  {
   "cell_type": "markdown",
   "metadata": {
    "pycharm": {
     "name": "#%% md\n"
    }
   },
   "source": [
    "The data merged into a single line instead of being separated into columns. To split the columns, let's pass the `sep='\\t'` parameter to the `read_csv()` method."
   ]
  },
  {
   "cell_type": "code",
   "execution_count": null,
   "metadata": {
    "pycharm": {
     "name": "#%%\n"
    }
   },
   "outputs": [],
   "source": [
    "data = pd.read_csv('real_estate_data.csv', sep='\\t')\n",
    "display(data.head())\n",
    "data.info()"
   ]
  },
  {
   "cell_type": "markdown",
   "metadata": {
    "pycharm": {
     "name": "#%% md\n"
    }
   },
   "source": [
    "### Conclusion\n",
    "The table consists of 22 columns and 23,699 rows. Each row in the table represents data about an apartment and its sale.\n",
    "\n",
    "According to the documentation:\n",
    "- `airports_nearest` — distance to the nearest airport in meters (m)\n",
    "- `balcony` — number of balconies\n",
    "- `ceiling_height` — ceiling height in meters (m)\n",
    "- `cityCenters_nearest` — distance to the city center in meters (m)\n",
    "- `days_exposition` — number of days the advertisement was active (from publication to withdrawal)\n",
    "- `first_day_exposition` — publication date\n",
    "- `floor` — floor\n",
    "- `floors_total` — total number of floors in the building\n",
    "- `is_apartment` — apartment (boolean type)\n",
    "- `kitchen_area` — kitchen area in square meters (m²)\n",
    "- `last_price` — price at the time of withdrawal from publication\n",
    "- `living_area` — living area in square meters (m²)\n",
    "- `locality_name` — locality name\n",
    "- `open_plan` — open plan (boolean type)\n",
    "- `parks_around3000` — number of parks within a 3 km radius\n",
    "- `parks_nearest` — distance to the nearest park (m)\n",
    "- `ponds_around3000` — number of ponds within a 3 km radius\n",
    "- `ponds_nearest` — distance to the nearest pond (m)\n",
    "- `rooms` — number of rooms\n",
    "- `studio` — studio apartment (boolean type)\n",
    "- `total_area` — total area of the apartment in square meters (m²)\n",
    "- `total_images` — number of photos of the apartment in the listing\n",
    "\n",
    "Only 8 columns have no missing values: `total_images`, `last_price`, `total_area`, `first_day_exposition`, `rooms`, `floor`, `studio`, `open_plan`. In columns such as `is_apartment`, `park_nearest`, `ponds_nearest`, there are the most missing values.\n",
    "\n",
    "For half of the columns, the data type does not match reality. Columns like `floor_total`, `balcony`, `parks_around300`, `ponds_around3000`, `days_exposition` have a `float64` data type, although by nature, they should strictly be `int64`. Data in columns `airports_nearest`, `cityCenters_nearest`, `park_nearest`, and `ponds_nearest` may be floating-point numbers, but for convenience, it is advisable to change their type from `float64` to `int64`, especially since it will not affect the research results. The column `first_day_exposition` has an `object` type, which does not correspond to reality and should be `datatime64`. Similarly, the data type of the `is_apartment` column contradicts its nature, so it should be changed from `object` to `bool`.\n",
    "\n",
    "There is a style violation in the column name `cityCenters_nearest`.\n",
    "\n",
    "To proceed further, these data issues need to be addressed."
   ]
  },
  {
   "cell_type": "markdown",
   "metadata": {
    "pycharm": {
     "name": "#%% md\n"
    }
   },
   "source": [
    "## Data Preprocessing"
   ]
  },
  {
   "cell_type": "markdown",
   "metadata": {
    "pycharm": {
     "name": "#%% md\n"
    }
   },
   "source": [
    "### Header Style\n",
    "Let's rename the column `'cityCenters_nearest'` to `'city_centers_nearest'`:"
   ]
  },
  {
   "cell_type": "code",
   "execution_count": null,
   "metadata": {
    "pycharm": {
     "name": "#%%\n"
    }
   },
   "outputs": [],
   "source": [
    "data.rename(columns={'cityCenters_nearest': 'city_centers_nearest'}, inplace=True)"
   ]
  },
  {
   "cell_type": "markdown",
   "metadata": {
    "pycharm": {
     "name": "#%% md\n"
    }
   },
   "source": [
    "First, let's calculate the number of missing values in the table."
   ]
  },
  {
   "cell_type": "code",
   "execution_count": null,
   "metadata": {
    "pycharm": {
     "name": "#%%\n"
    }
   },
   "outputs": [],
   "source": [
    "data.isna().sum()"
   ]
  },
  {
   "cell_type": "markdown",
   "metadata": {
    "pycharm": {
     "name": "#%% md\n"
    }
   },
   "source": [
    "First, let's fill in the gaps in the `floor_total` column. The presence of only a few gaps suggests they might be attributed to human error – someone may have simply overlooked filling in this data. We will fill in the gaps using the median value. If the floor level of an apartment is less than this median value, we will assume the total number of floors is equal to the apartment's floor level; otherwise, we will use the median value for the total floors."
   ]
  },
  {
   "cell_type": "code",
   "execution_count": null,
   "metadata": {
    "pycharm": {
     "name": "#%%\n"
    }
   },
   "outputs": [],
   "source": [
    "median_floors = data['floors_total'].median()\n",
    "\n",
    "def total_floors(floor):\n",
    "    return max(floor, median_floors)\n",
    "\n",
    "mask = data['floors_total'].isna()\n",
    "data.loc[mask, 'floors_total'] = data.loc[mask, 'floor'].apply(total_floors)"
   ]
  },
  {
   "cell_type": "markdown",
   "metadata": {
    "pycharm": {
     "name": "#%% md\n"
    }
   },
   "source": [
    "There are many missing values in the `ceiling_height` column, almost 40%. However, since the ceiling height is almost the same in all apartments, we will fill it with the median value."
   ]
  },
  {
   "cell_type": "code",
   "execution_count": null,
   "metadata": {
    "pycharm": {
     "name": "#%%\n"
    }
   },
   "outputs": [],
   "source": [
    "data['ceiling_height'].fillna(data['ceiling_height'].median(), inplace=True)"
   ]
  },
  {
   "cell_type": "markdown",
   "metadata": {
    "pycharm": {
     "name": "#%% md\n"
    }
   },
   "source": [
    "Next, let's fill in the gaps in the `kitchen_area` column, which occur in about 10% of cases. A pattern can be observed: for studios (`studio = True`), there is no kitchen area. On the one hand, this is indeed the case since in a studio, all rooms are combined into one. However, on the other hand, in reality, every apartment has a kitchen. Smaller apartments have smaller kitchens, and larger ones have larger ones. Let's examine the relationship between the kitchen area and the total apartment area."
   ]
  },
  {
   "cell_type": "code",
   "execution_count": null,
   "metadata": {
    "pycharm": {
     "name": "#%%\n"
    }
   },
   "outputs": [],
   "source": [
    "kitchen_total_ratio = data['kitchen_area'] / data['total_area']\n",
    "kitchen_total_ratio"
   ]
  },
  {
   "cell_type": "markdown",
   "metadata": {
    "pycharm": {
     "name": "#%% md\n"
    }
   },
   "source": [
    "As we can see, the majority of kitchens occupy 0.15-0.2 of the total apartment area. Let's calculate the mean and median to see if our observations are confirmed."
   ]
  },
  {
   "cell_type": "code",
   "execution_count": null,
   "metadata": {
    "pycharm": {
     "name": "#%%\n"
    }
   },
   "outputs": [],
   "source": [
    "print(f'Mean ratio value: {kitchen_total_ratio.mean()}')\n",
    "print(f'Median ratio: {kitchen_total_ratio.median()}')"
   ]
  },
  {
   "cell_type": "markdown",
   "metadata": {
    "pycharm": {
     "name": "#%% md\n"
    }
   },
   "source": [
    "Let's fill in the gaps in the `kitchen_area` column as `median ratio * total_area`."
   ]
  },
  {
   "cell_type": "code",
   "execution_count": null,
   "metadata": {
    "pycharm": {
     "name": "#%%\n"
    }
   },
   "outputs": [],
   "source": [
    "data['kitchen_area'].fillna(kitchen_total_ratio.median() * data['total_area'], inplace=True)"
   ]
  },
  {
   "cell_type": "markdown",
   "metadata": {
    "pycharm": {
     "name": "#%% md\n"
    }
   },
   "source": [
    "Using the same method, let's fill in the missing values in the `living_area` column:"
   ]
  },
  {
   "cell_type": "code",
   "execution_count": null,
   "metadata": {
    "pycharm": {
     "name": "#%%\n"
    }
   },
   "outputs": [],
   "source": [
    "living_total_ratio_median = (data['living_area'] / data['total_area']).median()\n",
    "data['living_area'].fillna(living_total_ratio_median * data['total_area'], inplace=True)"
   ]
  },
  {
   "cell_type": "markdown",
   "metadata": {
    "pycharm": {
     "name": "#%% md\n"
    }
   },
   "source": [
    "Most likely, the gaps in the `balcony` column have occurred because owners of apartments without balconies simply ignore this field in the form. Therefore, let's fill the `NaN` values with zeros."
   ]
  },
  {
   "cell_type": "code",
   "execution_count": null,
   "metadata": {
    "pycharm": {
     "name": "#%%\n"
    }
   },
   "outputs": [],
   "source": [
    "data['balcony'].fillna(0, inplace=True)"
   ]
  },
  {
   "cell_type": "markdown",
   "metadata": {
    "pycharm": {
     "name": "#%% md\n"
    }
   },
   "source": [
    "In the `is_apartment` column, there are 88% missing values. This is a very high percentage, so it is advisable to clarify information about these artifacts with the developer. Unfortunately, we do not have such an opportunity, so we will make assumptions ourselves. The first thing that comes to mind is that the `is_apartment`, `studio`, and `open_plan` columns are mutually exclusive. Let's check this:"
   ]
  },
  {
   "cell_type": "code",
   "execution_count": null,
   "metadata": {
    "pycharm": {
     "name": "#%%\n"
    }
   },
   "outputs": [],
   "source": [
    "(data['is_apartment'] + data['studio'] + data['open_plan']).value_counts()"
   ]
  },
  {
   "cell_type": "markdown",
   "metadata": {
    "pycharm": {
     "name": "#%% md\n"
    }
   },
   "source": [
    "Indeed, if at least one of the three parameters is `True`, the other two are `False`. There are 72 such combinations in the table. However, there are also 2703 combinations where all three parameters are false (`is_apartment == False and studio == False and open_plan == False`). So, we can replace the missing values in `is_apartment` with `False` where at least one of the other two parameters (`studio`, `open_plan`) is `True`. However, we cannot replace the missing values with `True` where the other two columns are `False`. Therefore, it makes sense to replace all the missing values in this column with `False`."
   ]
  },
  {
   "cell_type": "code",
   "execution_count": null,
   "metadata": {
    "pycharm": {
     "name": "#%%\n"
    }
   },
   "outputs": [],
   "source": [
    "data['is_apartment'].fillna(False, inplace=True)"
   ]
  },
  {
   "cell_type": "markdown",
   "metadata": {
    "pycharm": {
     "name": "#%% md\n"
    }
   },
   "source": [
    "In the `locality_name` column, there are less than 0.5% missing values. Since we cannot find the names of the localities, we have two options: either delete the rows with missing values or replace the `NaN` values with a placeholder. Let's go with the first option:"
   ]
  },
  {
   "cell_type": "code",
   "execution_count": null,
   "metadata": {
    "pycharm": {
     "name": "#%%\n"
    }
   },
   "outputs": [],
   "source": [
    "data.dropna(subset=['locality_name'], inplace=True)\n",
    "data.reset_index(drop=True, inplace=True)"
   ]
  },
  {
   "cell_type": "markdown",
   "metadata": {
    "pycharm": {
     "name": "#%% md\n"
    }
   },
   "source": [
    "The `day_exposition` column informs us about how many days the ad was posted. However, if the ad is still active, `NaN` values are quite normal. Therefore, we won't do anything with the missing values in this column.\n",
    "\n",
    "There are 20% missing values in the columns `airport_nearest`, `city_centers_nearest`, `parks_around3000`, `ponds_around3000`, and 60% missing values in the columns `parks_nearest`, `ponds_nearest`. If we take a closer look at the data, it's noticeable that the gaps in all six parameters occur simultaneously. Most likely, this coincidence occurred because the exact geolocation of the apartment was lost, and the program couldn't automatically calculate these data. However, we still have the name of the locality (`locality_name`) for these apartments. Therefore, we can fill the gaps with the median for each locality group.\n",
    "\n",
    "Let's see what unique values are in the `locality_name` column:"
   ]
  },
  {
   "cell_type": "code",
   "execution_count": null,
   "metadata": {
    "pycharm": {
     "name": "#%%\n"
    }
   },
   "outputs": [],
   "source": [
    "data['locality_name'].value_counts()"
   ]
  },
  {
   "cell_type": "markdown",
   "metadata": {
    "pycharm": {
     "name": "#%% md\n"
    }
   },
   "source": [
    "In the column, there are implicit duplicates caused by appending the settlement type name to the name of the settlement itself. For example, <i>посёлок Мурино, поселок Мурино, Мурино</i>. To address this, we will write a function that extracts only the capitalized word (i.e., the actual name) from the locality name strings."
   ]
  },
  {
   "cell_type": "code",
   "execution_count": null,
   "metadata": {
    "pycharm": {
     "name": "#%%\n"
    }
   },
   "outputs": [],
   "source": [
    "def get_locality_name(locality_name):\n",
    "    return ' '.join([word for word in locality_name.split() if word[0].istitle()])\n",
    "\n",
    "data['locality_name_unique'] = data['locality_name'].apply(get_locality_name)\n",
    "data['locality_name_unique'].value_counts()"
   ]
  },
  {
   "cell_type": "markdown",
   "metadata": {
    "pycharm": {
     "name": "#%% md\n"
    }
   },
   "source": [
    "By removing duplicates, we have reduced the number of unique values by almost 20%. Now, we can fill in the gaps in the columns `airport_nearest`, `city_centers_nearest`, `parks_around3000`, `ponds_around3000`, `parks_nearest`, `ponds_nearest`."
   ]
  },
  {
   "cell_type": "code",
   "execution_count": null,
   "metadata": {
    "pycharm": {
     "name": "#%%\n"
    }
   },
   "outputs": [],
   "source": [
    "location_columns = ['airports_nearest', 'city_centers_nearest', 'parks_around3000', 'ponds_around3000', 'parks_nearest', 'ponds_nearest']\n",
    "\n",
    "def get_value(row, column, medians):\n",
    "    if pd.isna(row[column]):\n",
    "        return medians.loc[row['locality_name_unique']]\n",
    "    return row[column]\n",
    "\n",
    "for col in location_columns:\n",
    "    medians_data = data.groupby('locality_name_unique')[col].median()\n",
    "    data[col] = data.apply(lambda row: get_value(row, col, medians_data), axis=1)\n",
    "\n",
    "data.isna().sum()"
   ]
  },
  {
   "cell_type": "markdown",
   "metadata": {
    "pycharm": {
     "name": "#%% md\n"
    }
   },
   "source": [
    "Although some gaps still remain, we have managed to fill in over 600 gaps for each column. It doesn't make sense to fill the remaining gaps with specific data, as it may only distort the overall picture."
   ]
  },
  {
   "cell_type": "markdown",
   "metadata": {
    "pycharm": {
     "name": "#%% md\n"
    }
   },
   "source": [
    "### Data Type Conversion"
   ]
  },
  {
   "cell_type": "markdown",
   "metadata": {
    "pycharm": {
     "name": "#%% md\n"
    }
   },
   "source": [
    "Let's take another look at the data types."
   ]
  },
  {
   "cell_type": "code",
   "execution_count": null,
   "metadata": {
    "pycharm": {
     "name": "#%%\n"
    }
   },
   "outputs": [],
   "source": [
    "data.info()"
   ]
  },
  {
   "cell_type": "markdown",
   "metadata": {
    "pycharm": {
     "name": "#%% md\n"
    }
   },
   "source": [
    "The columns `airports_nearest`, `city_centers_nearest`, `parks_around3000`, `parks_nearest`, `ponds_around3000`, `ponds_nearest` contain `NaN`, which is of type `float`, so we will not change the type in these columns. However, for the columns `last_price`, `total_area`, `floors_total`, `living_area`, `kitchen_area`, `balcony`, let's change the type from `float` to `int`. We will also change the date type to make it more convenient to work with."
   ]
  },
  {
   "cell_type": "code",
   "execution_count": null,
   "metadata": {
    "pycharm": {
     "name": "#%%\n"
    }
   },
   "outputs": [],
   "source": [
    "float_columns = ['last_price', 'total_area', 'floors_total', 'living_area', 'kitchen_area', 'balcony', 'rooms']\n",
    "\n",
    "for col in float_columns:\n",
    "    data[col] = data[col].astype('int')\n",
    "\n",
    "data['first_day_exposition'] = pd.to_datetime(\n",
    "    data['first_day_exposition'], format='%Y-%m-%dT%H:%M:%S'\n",
    ")\n",
    "data.info()"
   ]
  },
  {
   "cell_type": "markdown",
   "metadata": {
    "pycharm": {
     "name": "#%% md\n"
    }
   },
   "source": [
    "All the necessary data types have been changed."
   ]
  },
  {
   "cell_type": "markdown",
   "metadata": {
    "pycharm": {
     "name": "#%% md\n"
    }
   },
   "source": [
    "### Handling Duplicates\n",
    "\n",
    "Let's check the data for any duplicates.\n"
   ]
  },
  {
   "cell_type": "code",
   "execution_count": null,
   "metadata": {
    "pycharm": {
     "name": "#%%\n"
    }
   },
   "outputs": [],
   "source": [
    "data.duplicated().sum()"
   ]
  },
  {
   "cell_type": "markdown",
   "metadata": {
    "pycharm": {
     "name": "#%% md\n"
    }
   },
   "source": [
    "There are no duplicates in the data."
   ]
  },
  {
   "cell_type": "markdown",
   "metadata": {
    "pycharm": {
     "name": "#%% md\n"
    }
   },
   "source": [
    "## Calculations and Adding Results to the Table"
   ]
  },
  {
   "cell_type": "markdown",
   "metadata": {
    "pycharm": {
     "name": "#%% md\n"
    }
   },
   "source": [
    "Let's calculate the price per square meter:"
   ]
  },
  {
   "cell_type": "code",
   "execution_count": null,
   "metadata": {
    "pycharm": {
     "name": "#%%\n"
    }
   },
   "outputs": [],
   "source": [
    "data['price_m2'] = (data['last_price'] / data['total_area']).round(2)"
   ]
  },
  {
   "cell_type": "markdown",
   "metadata": {
    "pycharm": {
     "name": "#%% md\n"
    }
   },
   "source": [
    "Let's find out and add to the table the day of the week, month, and year of the publication of the ad:"
   ]
  },
  {
   "cell_type": "code",
   "execution_count": null,
   "metadata": {
    "pycharm": {
     "name": "#%%\n"
    }
   },
   "outputs": [],
   "source": [
    "data['weekday'] = data['first_day_exposition'].dt.day_name()\n",
    "data['month'] = data['first_day_exposition'].dt.month_name()\n",
    "data['year'] = data['first_day_exposition'].dt.year"
   ]
  },
  {
   "cell_type": "markdown",
   "metadata": {
    "pycharm": {
     "name": "#%% md\n"
    }
   },
   "source": [
    "Let's categorize the floor of the apartment - <i>первый, последний, другой</i>."
   ]
  },
  {
   "cell_type": "code",
   "execution_count": null,
   "metadata": {
    "pycharm": {
     "name": "#%%\n"
    }
   },
   "outputs": [],
   "source": [
    "def get_floor_category(row):\n",
    "    if row['floor'] == 1:\n",
    "        return 'первый'\n",
    "    elif row['floor'] == row['floors_total']:\n",
    "        return 'последний'\n",
    "    return 'другой'\n",
    "\n",
    "data['floor_category'] = data.apply(get_floor_category, axis=1)"
   ]
  },
  {
   "cell_type": "markdown",
   "metadata": {
    "pycharm": {
     "name": "#%% md\n"
    }
   },
   "source": [
    "Let's calculate the ratio of living area to total area and the ratio of kitchen area to total area."
   ]
  },
  {
   "cell_type": "code",
   "execution_count": null,
   "metadata": {
    "pycharm": {
     "name": "#%%\n"
    }
   },
   "outputs": [],
   "source": [
    "data['living_total_area_ratio'] = (data['living_area'] / data['total_area']).round(2)\n",
    "data['kitchen_total_area_ratio'] = (data['kitchen_area'] / data['total_area']).round(2)"
   ]
  },
  {
   "cell_type": "markdown",
   "metadata": {
    "pycharm": {
     "name": "#%% md\n"
    }
   },
   "source": [
    "## Exploratory Data Analysis"
   ]
  },
  {
   "cell_type": "markdown",
   "metadata": {
    "pycharm": {
     "name": "#%% md\n"
    }
   },
   "source": [
    "Let's analyze the following characteristics: area, price, number of rooms, ceiling height, and the time it takes to sell the apartment by building histograms for each."
   ]
  },
  {
   "cell_type": "code",
   "execution_count": null,
   "metadata": {
    "pycharm": {
     "name": "#%%\n"
    }
   },
   "outputs": [],
   "source": [
    "data.hist('total_area')"
   ]
  },
  {
   "cell_type": "markdown",
   "metadata": {
    "pycharm": {
     "name": "#%% md\n"
    }
   },
   "source": [
    "From the histogram, it's evident that most apartments have an area below 100 m². However, there are apartments with an area reaching 900 m². It's challenging to imagine such apartments in real life, so most likely, these are outliers that distort the diagram. If we limit the plot to more realistic values (from 20 to 200 m²), we can analyze the data more effectively."
   ]
  },
  {
   "cell_type": "code",
   "execution_count": null,
   "metadata": {
    "pycharm": {
     "name": "#%%\n"
    }
   },
   "outputs": [],
   "source": [
    "data.hist('total_area', range=(20, 200), bins=20)\n",
    "data['total_area'].describe()"
   ]
  },
  {
   "cell_type": "markdown",
   "metadata": {
    "pycharm": {
     "name": "#%% md\n"
    }
   },
   "source": [
    "The histogram has changed: there are more apartments (75%) with an area up to 70 m², and as the area increases, the number of apartments decreases exponentially. There are almost no apartments with an area of 200+ m².\n",
    "\n",
    "Let's analyze the next column - `last_price`."
   ]
  },
  {
   "cell_type": "code",
   "execution_count": null,
   "metadata": {
    "pycharm": {
     "name": "#%%\n"
    }
   },
   "outputs": [],
   "source": [
    "data.hist('last_price')"
   ]
  },
  {
   "cell_type": "markdown",
   "metadata": {
    "pycharm": {
     "name": "#%% md\n"
    }
   },
   "source": [
    "It's challenging to pinpoint anything specific about this histogram. Most of the data lies within the range from 0 to 60,000,000. All other values seem more like outliers. Therefore, let's analyze the histogram limited to the numbers 0 and 0.6e8, and break it down into 50 bins."
   ]
  },
  {
   "cell_type": "code",
   "execution_count": null,
   "metadata": {
    "pycharm": {
     "name": "#%%\n"
    }
   },
   "outputs": [],
   "source": [
    "data.hist('last_price', bins=50, range=(0, 0.6e8))\n",
    "data['last_price'].describe()"
   ]
  },
  {
   "cell_type": "markdown",
   "metadata": {
    "pycharm": {
     "name": "#%% md\n"
    }
   },
   "source": [
    "The histogram resembles a Poisson distribution. Most of the data falls within the range from 0 to 1e7, with the median at 0.5e7."
   ]
  },
  {
   "cell_type": "code",
   "execution_count": null,
   "metadata": {
    "pycharm": {
     "name": "#%%\n"
    }
   },
   "outputs": [],
   "source": [
    "data.hist('rooms')\n",
    "data['rooms'].describe()"
   ]
  },
  {
   "cell_type": "markdown",
   "metadata": {
    "pycharm": {
     "name": "#%% md\n"
    }
   },
   "source": [
    "Most apartments have a number of rooms ranging from zero to three, while four- or five-room apartments are rare. The median and mean values are the same and equal to 2."
   ]
  },
  {
   "cell_type": "code",
   "execution_count": null,
   "metadata": {
    "pycharm": {
     "name": "#%%\n"
    }
   },
   "outputs": [],
   "source": [
    "data.hist('ceiling_height')"
   ]
  },
  {
   "cell_type": "markdown",
   "metadata": {
    "pycharm": {
     "name": "#%% md\n"
    }
   },
   "source": [
    "From this histogram, it's hard to make sense of anything. We need to set a `range` with more realistic ceiling heights."
   ]
  },
  {
   "cell_type": "code",
   "execution_count": null,
   "metadata": {
    "pycharm": {
     "name": "#%%\n"
    }
   },
   "outputs": [],
   "source": [
    "data.hist('ceiling_height', range=(2.35, 3.5))\n",
    "data['ceiling_height'].describe()"
   ]
  },
  {
   "cell_type": "markdown",
   "metadata": {
    "pycharm": {
     "name": "#%% md\n"
    }
   },
   "source": [
    "Now we can analyze the plot. 50% of the data falls within the range from 2.6 to 2.7, which is a standard ceiling height in modern apartments. Of course, there are apartments with ceilings higher than 3m, possibly in historical or grand buildings."
   ]
  },
  {
   "cell_type": "code",
   "execution_count": null,
   "metadata": {
    "pycharm": {
     "name": "#%%\n"
    }
   },
   "outputs": [],
   "source": [
    "import matplotlib.pyplot as plt\n",
    "\n",
    "def get_whiskers(dataset):\n",
    "    q_1 = dataset.quantile(0.25)\n",
    "    q_3 = dataset.quantile(0.75)\n",
    "    iqr = q_3 - q_1\n",
    "    left_whisker = q_1 - 1.5 * iqr\n",
    "    right_whisker = q_3 + 1.5 * iqr\n",
    "    return (\n",
    "        max(dataset.min(), left_whisker),\n",
    "        min(dataset.max(), right_whisker)\n",
    "    )\n",
    "\n",
    "columns = ['days_exposition', 'ceiling_height', 'rooms', 'total_area', 'last_price']\n",
    "\n",
    "final_data = data\n",
    "for col in columns:\n",
    "    data.boxplot(column=col)\n",
    "    plt.show()\n",
    "    l_whisker, r_whisker = get_whiskers(data[col])\n",
    "    final_data = final_data[(final_data[col] >= l_whisker) & (final_data[col] <= r_whisker)]\n",
    "\n",
    "    data.plot(y=col, kind='hist', title=f'{col}')\n",
    "    plt.show()\n",
    "\n",
    "    final_data.plot(y=col, kind='hist', title=f'{col}_final')\n",
    "    plt.show()\n",
    "final_data.reset_index()\n",
    "print(f'We removed {(1 - final_data.shape[0]/data.shape[0]):.2%} of the data.')"
   ]
  },
  {
   "cell_type": "code",
   "execution_count": null,
   "outputs": [],
   "source": [
    "data.hist('days_exposition', bins=50)\n",
    "data['days_exposition'].describe()"
   ],
   "metadata": {
    "collapsed": false,
    "pycharm": {
     "name": "#%%\n"
    }
   }
  },
  {
   "cell_type": "markdown",
   "source": [
    "The majority of apartments are sold within the first 100 days after the ad is published. The peak is between 30 and 60 days, after which it sharply declines. The standard deviation is large, and the mean is almost twice the median, indicating outliers that may have resulted from people forgetting to remove listings after selling their apartments."
   ],
   "metadata": {
    "collapsed": false
   }
  },
  {
   "cell_type": "markdown",
   "source": [
    "### Removing Outliers\n",
    "\n",
    "As we have already learned, our data is cluttered with rare outliers. To prevent them from distorting the overall picture, we should remove them."
   ],
   "metadata": {
    "collapsed": false
   }
  },
  {
   "cell_type": "markdown",
   "metadata": {
    "pycharm": {
     "name": "#%% md\n"
    }
   },
   "source": [
    "Although we reduced the amount of data by a whopping 32%, we have eliminated all outliers: apartments with 18 rooms and ceilings of 100m. Now we can analyze the data and look for patterns."
   ]
  },
  {
   "cell_type": "markdown",
   "metadata": {
    "pycharm": {
     "name": "#%% md\n"
    }
   },
   "source": [
    "### Which Factors Most Affect the Apartment Price?"
   ]
  },
  {
   "cell_type": "markdown",
   "metadata": {
    "pycharm": {
     "name": "#%% md\n"
    }
   },
   "source": [
    "Let's explore whether the price depends on the area, number of rooms, and distance from the city center. We can create pairwise scatter plots for price and area, price and number of rooms, price and distance from the center, and 13 more combinations. Additionally, we can calculate the correlation coefficient for each pair of columns."
   ]
  },
  {
   "cell_type": "code",
   "execution_count": null,
   "metadata": {
    "pycharm": {
     "name": "#%%\n"
    }
   },
   "outputs": [],
   "source": [
    "# let's create a function for future use\n",
    "\n",
    "def corr_scatter_matrix(data, cols):\n",
    "    fig, axes = plt.subplots(nrows=1, ncols=len(cols), figsize=(4*len(cols), 4))\n",
    "    for i, col in enumerate(cols):\n",
    "        data.plot(kind='scatter', x=col, y='last_price', ax=axes[i], sharey=True)\n",
    "    plt.show()\n",
    "    print('Correlation with last_price:',  data.corr().loc[cols, 'last_price'], sep='\\n')\n",
    "\n",
    "corr_scatter_matrix(final_data, ['total_area', 'rooms', 'city_centers_nearest'])"
   ]
  },
  {
   "cell_type": "markdown",
   "metadata": {
    "pycharm": {
     "name": "#%% md\n"
    }
   },
   "source": [
    "From the scatter plots, it is evident that the apartment price (`last_price`) is dependent on its area (`total_area`), meaning these two variables are correlated. Indeed, if we look at the correlation coefficient, it is 0.68, indicating a moderate correlation.\n",
    "\n",
    "There is a weak correlation between parameters such as `last_price` and `rooms`. Studios and one-bedroom apartments are generally cheaper, but there isn't a significant price difference among apartments with 2 or more rooms.\n",
    "\n",
    "A weak negative correlation exists between `last_price` and `city_centers_nearest`. From the scatter plot, we can see that apartments located far from the city center tend to be cheaper. However, it's also noticeable that apartments in the center or close to it can vary widely in price.\n",
    "\n",
    "Let's check if the price depends on the day of the week, month, or year of the ad publication, as well as the floor category."
   ]
  },
  {
   "cell_type": "code",
   "execution_count": null,
   "metadata": {
    "pycharm": {
     "name": "#%%\n"
    }
   },
   "outputs": [],
   "source": [
    "# let's create a function for future use.\n",
    "def scatter_plots(data, columns):\n",
    "    for col in columns:\n",
    "        plt.scatter(data['last_price'], data[col], alpha=0.1)\n",
    "        plt.show()\n",
    "        # let's also display the number of unique values and their mean for each column.\n",
    "        display(data.pivot_table(index=col, values='last_price', aggfunc=['count', 'mean', 'median']))\n",
    "\n",
    "scatter_plots(final_data, ['floor_category', 'weekday', 'month', 'year'])"
   ]
  },
  {
   "cell_type": "markdown",
   "metadata": {
    "pycharm": {
     "name": "#%% md\n"
    }
   },
   "source": [
    "Apartments on the first floor are the least expensive. Although the line representing apartments on the ***другом*** floor is denser than the line for apartments on the ***последнем*** floor, it doesn't necessarily mean these apartments are more expensive; it may be due to a larger amount of data. Moreover, the price range for apartments on the ***последнем*** floor corresponds to the price range for apartments on the ***другом*** floor.\n",
    "\n",
    "The day of the week when the listing is published almost doesn't affect the apartment's price, except that ***понедельник*** has slightly fewer expensive apartments. It's also noticeable that on ***субботу*** and ***воскресенье***, people publish ads less actively.\n",
    "\n",
    "The most advantageous month for buying an apartment is ***июле***, while the ***осенние месяцы*** might be less attractive for buyers. However, it's challenging to conclude that there is even a moderate correlation between the publication month and the price; it seems more like a weak or nonexistent relationship.\n",
    "\n",
    "Looking at the scatter plot, one might infer that apartments were the cheapest in ***2015*** and ***2019***, while the most expensive in ***2017*** and ***2018***. However, for ***2015*** and ***2019***, we have less data, so their scatter plots look different. Nevertheless, if we consider the average apartment price over the last three years, we can observe a trend of increasing prices, which is logical considering inflation."
   ]
  },
  {
   "cell_type": "markdown",
   "metadata": {
    "pycharm": {
     "name": "#%% md\n"
    }
   },
   "source": [
    "**Conclusion**\n",
    "We have explored the relationship between the price and various characteristics of apartments. We can assert that there is a correlation between the apartment's area and the price, between the number of rooms and the price, as well as a moderate negative correlation between the price and the distance from the city center. The day and month of publication have no significant impact on the price, while there is a moderate connection with the year of publication."
   ]
  },
  {
   "cell_type": "markdown",
   "metadata": {
    "pycharm": {
     "name": "#%% md\n"
    }
   },
   "source": [
    "Now let's select the top 10 localities with the highest number of listings. We will calculate the average price per square meter in these localities and identify the areas with the highest and lowest housing costs."
   ]
  },
  {
   "cell_type": "code",
   "execution_count": null,
   "metadata": {
    "pycharm": {
     "name": "#%%\n"
    }
   },
   "outputs": [],
   "source": [
    "(\n",
    "    final_data.pivot_table(index='locality_name_unique', values='price_m2', aggfunc=['count', 'mean'])\n",
    "    .sort_values(by=('count', 'price_m2'), ascending=False)\n",
    "    [0:10]\n",
    "    .sort_values(by=('mean', 'price_m2'), ascending=False)\n",
    ")"
   ]
  },
  {
   "cell_type": "markdown",
   "metadata": {
    "pycharm": {
     "name": "#%% md\n"
    }
   },
   "source": [
    "In Санкт-Петербург, there is the largest number of listings, and it also has the highest price per square meter. In all other localities, the number of listings is at least 20 times less, and the average price per square meter differs by a couple of thousand. The lowest housing cost is in the city of Выборг."
   ]
  },
  {
   "cell_type": "markdown",
   "metadata": {
    "pycharm": {
     "name": "#%% md\n"
    }
   },
   "source": [
    "We will investigate apartments in Санкт-Петербурге. To start, let's determine which area is considered the city center."
   ]
  },
  {
   "cell_type": "code",
   "execution_count": null,
   "metadata": {
    "pycharm": {
     "name": "#%%\n"
    }
   },
   "outputs": [],
   "source": [
    "data_spb = final_data.query('locality_name_unique == \"Санкт-Петербург\"').copy()\n",
    "data_spb['city_centers_nearest_km'] = final_data['city_centers_nearest'] // 1000\n",
    "(\n",
    "    data_spb.pivot_table(index='city_centers_nearest_km', values='price_m2', aggfunc='mean')\n",
    "    .plot(style='o-', grid=True, figsize=(14, 6))\n",
    ")"
   ]
  },
  {
   "cell_type": "markdown",
   "metadata": {
    "pycharm": {
     "name": "#%% md\n"
    }
   },
   "source": [
    "From the plot, it is evident that the 8 km mark is a turning point. Beyond this distance, the price fluctuates but never exceeds the price at this point, indicating a decline."
   ]
  },
  {
   "cell_type": "markdown",
   "metadata": {
    "pycharm": {
     "is_executing": true,
     "name": "#%% md\n"
    }
   },
   "source": [
    "Now let's focus on the segment of apartments in the city center and compare some average values with the overall averages for the entire city."
   ]
  },
  {
   "cell_type": "code",
   "execution_count": null,
   "metadata": {
    "pycharm": {
     "name": "#%%\n"
    }
   },
   "outputs": [],
   "source": [
    "data_spb_center = data_spb.query('city_centers_nearest_km < 8').copy()\n",
    "\n",
    "columns = ['floors_total', 'ceiling_height', 'days_exposition', 'total_area', 'price_m2', 'rooms']\n",
    "\n",
    "(\n",
    "    pd.DataFrame(data_spb_center[columns].mean()).transpose()\n",
    "    .append(\n",
    "        pd.DataFrame(data_spb[columns].mean()).transpose()\n",
    "    )\n",
    ")"
   ]
  },
  {
   "cell_type": "markdown",
   "metadata": {
    "pycharm": {
     "name": "#%% md\n"
    }
   },
   "source": [
    "The city center is characterized by lower buildings compared to the entire city of St. Petersburg. However, the average ceiling height in these buildings is slightly higher. Apartments in the center tend to have larger total and living areas, as well as a higher number of rooms. Additionally, the price per square meter is higher in this area, but the average time for selling these apartments is longer.\n",
    "\n",
    "If you have any specific questions or if there's anything else you would like to explore in the data, feel free to let me know!"
   ]
  },
  {
   "cell_type": "markdown",
   "metadata": {
    "pycharm": {
     "name": "#%% md\n"
    }
   },
   "source": [
    "Let's analyze the factors influencing the formation of housing prices and compare the results with the overall city data."
   ]
  },
  {
   "cell_type": "code",
   "execution_count": null,
   "metadata": {
    "pycharm": {
     "name": "#%%\n"
    }
   },
   "outputs": [],
   "source": [
    "corr_cols = ['total_area', 'rooms', 'ceiling_height', 'floor', 'city_centers_nearest', 'year']\n",
    "print('Saint Petersburg:')\n",
    "corr_scatter_matrix(data_spb, corr_cols)\n",
    "print('\\n')\n",
    "print('The center of Saint Petersburg:')\n",
    "corr_scatter_matrix(data_spb_center, corr_cols)"
   ]
  },
  {
   "cell_type": "markdown",
   "metadata": {
    "pycharm": {
     "name": "#%% md\n"
    }
   },
   "source": [
    "The highest correlation coefficient can be observed between the price and the total area of the apartment; it is slightly higher for the city center.\n",
    "\n",
    "Since the number of rooms correlates with the total area, the price depends on the number of rooms accordingly.\n",
    "\n",
    "In the city center, apartments located on higher floors are sold at a higher price; whereas, in the entire city dataset, the floor does not influence the price.\n",
    "\n",
    "It is logical that for apartments in the center, the distance from the center has almost no effect on the price, but when analyzing the entire city, there is a small negative correlation between the price and the distance from the center.\n",
    "\n",
    "Throughout the city, apartments with higher ceilings are sold at a higher price (correlation coefficient = 0.27), while for the center, the correlation coefficient is lower at 0.18."
   ]
  },
  {
   "cell_type": "markdown",
   "metadata": {
    "pycharm": {
     "name": "#%% md\n"
    }
   },
   "source": [
    "Let's see how the prices of apartments in the center and the entire city change over the years:"
   ]
  },
  {
   "cell_type": "code",
   "execution_count": null,
   "metadata": {
    "pycharm": {
     "name": "#%%\n"
    }
   },
   "outputs": [],
   "source": [
    "scatter_plots(data_spb, ['year'])\n",
    "scatter_plots(data_spb_center, ['year'])"
   ]
  },
  {
   "cell_type": "markdown",
   "metadata": {
    "pycharm": {
     "name": "#%% md\n"
    }
   },
   "source": [
    "Interestingly, the cost of apartments does not change over time, and in the center, it even decreases. Now let's look at how the price per square meter changes."
   ]
  },
  {
   "cell_type": "code",
   "execution_count": null,
   "metadata": {
    "pycharm": {
     "name": "#%%\n"
    }
   },
   "outputs": [],
   "source": [
    "for data in [data_spb, data_spb_center]:\n",
    "    data.plot(x='price_m2', y='year', kind='scatter', alpha=0.5)\n",
    "    plt.show()\n",
    "    display(data.pivot_table(index='year', values='price_m2', aggfunc=['mean', 'median']))"
   ]
  },
  {
   "cell_type": "markdown",
   "metadata": {
    "pycharm": {
     "name": "#%% md\n"
    }
   },
   "source": [
    "The price per square meter is still increasing. Now we can look at how the apartment's area changes. Let's create a pivot table:"
   ]
  },
  {
   "cell_type": "code",
   "execution_count": null,
   "metadata": {
    "pycharm": {
     "name": "#%%\n"
    }
   },
   "outputs": [],
   "source": [
    "for data in [data_spb, data_spb_center]:\n",
    "    display(\n",
    "        data.pivot_table(\n",
    "            index='year',\n",
    "            values=['price_m2', 'total_area', 'last_price'],\n",
    "            aggfunc=['mean']\n",
    "        )\n",
    "    )"
   ]
  },
  {
   "cell_type": "markdown",
   "metadata": {
    "pycharm": {
     "name": "#%% md\n"
    }
   },
   "source": [
    "With time, the average total area of sold apartments tends to decrease, while the price per square meter increases. This explains why the overall apartment price remains almost constant over the years or even decreases."
   ]
  },
  {
   "cell_type": "markdown",
   "metadata": {
    "pycharm": {
     "name": "#%% md\n"
    }
   },
   "source": [
    "## Overall Conclusion\n",
    "\n",
    "We have investigated real estate listings for apartments in St. Petersburg and its surroundings. We found that the following factors have the most significant impact on the apartment price:\n",
    "\n",
    "- Total area of the apartment (correlation coefficient varies from 0.68 to 0.79 depending on the sample)\n",
    "- Number of rooms (correlation coefficient ~0.4)\n",
    "- Distance from the city center (correlation coefficient from -0.12 to -0.32, with an increase in distance from the center, the price decreases)\n",
    "- Ceiling height (weak correlation in the range of 0.15–0.2)\n",
    "- The floor has a slight impact, especially in the center of St. Petersburg (correlation coefficient 0.2)\n",
    "\n",
    "The apartment price is not influenced by the day of the week, month, or year of publication. Although we discovered an interesting pattern that over the years, the total area of the sold apartments decreases, while the price per square meter increases."
   ]
  },
  {
   "cell_type": "code",
   "execution_count": null,
   "outputs": [],
   "source": [
    "data = pd.Series([0, 1, 2, 3, 4, 5, 6, 7, 8, 9, 10])\n",
    "data.hist(bins=[0, 1, 4, 10])"
   ],
   "metadata": {
    "collapsed": false,
    "pycharm": {
     "name": "#%%\n"
    }
   }
  }
 ],
 "metadata": {
  "kernelspec": {
   "display_name": "Python 3 (ipykernel)",
   "language": "python",
   "name": "python3"
  },
  "language_info": {
   "codemirror_mode": {
    "name": "ipython",
    "version": 3
   },
   "file_extension": ".py",
   "mimetype": "text/x-python",
   "name": "python",
   "nbconvert_exporter": "python",
   "pygments_lexer": "ipython3",
   "version": "3.10.0"
  }
 },
 "nbformat": 4,
 "nbformat_minor": 1
}
