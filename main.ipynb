{
 "cells": [
  {
   "cell_type": "markdown",
   "metadata": {
    "collapsed": true,
    "pycharm": {
     "name": "#%% md\n"
    }
   },
   "source": [
    "# Исследование объявлений о продаже квартир\n",
    "\n",
    "В вашем распоряжении данные сервиса Яндекс.Недвижимость — архив объявлений о продаже квартир в Санкт-Петербурге и соседних населённых пунктах за несколько лет. Нужно научиться определять рыночную стоимость объектов недвижимости. Ваша задача — установить параметры. Это позволит построить автоматизированную систему: она отследит аномалии и мошенническую деятельность.\n",
    "\n",
    "По каждой квартире на продажу доступны два вида данных. Первые вписаны пользователем, вторые получены автоматически на основе картографических данных. Например, расстояние до центра, аэропорта, ближайшего парка и водоёма."
   ]
  },
  {
   "cell_type": "markdown",
   "source": [
    "## Изучение данных из файла"
   ],
   "metadata": {
    "collapsed": false,
    "pycharm": {
     "name": "#%% md\n"
    }
   }
  },
  {
   "cell_type": "code",
   "execution_count": 381,
   "outputs": [
    {
     "data": {
      "text/plain": "  total_images\\tlast_price\\ttotal_area\\tfirst_day_exposition\\trooms\\tceiling_height\\tfloors_total\\tliving_area\\tfloor\\tis_apartment\\tstudio\\topen_plan\\tkitchen_area\\tbalcony\\tlocality_name\\tairports_nearest\\tcityCenters_nearest\\tparks_around3000\\tparks_nearest\\tponds_around3000\\tponds_nearest\\tdays_exposition\n0  20\\t13000000.0\\t108.0\\t2019-03-07T00:00:00\\t3\\...                                                                                                                                                                                                                                                                  \n1  7\\t3350000.0\\t40.4\\t2018-12-04T00:00:00\\t1\\t\\t...                                                                                                                                                                                                                                                                  \n2  10\\t5196000.0\\t56.0\\t2015-08-20T00:00:00\\t2\\t\\...                                                                                                                                                                                                                                                                  \n3  0\\t64900000.0\\t159.0\\t2015-07-24T00:00:00\\t3\\t...                                                                                                                                                                                                                                                                  \n4  2\\t10000000.0\\t100.0\\t2018-06-19T00:00:00\\t2\\t...                                                                                                                                                                                                                                                                  ",
      "text/html": "<div>\n<style scoped>\n    .dataframe tbody tr th:only-of-type {\n        vertical-align: middle;\n    }\n\n    .dataframe tbody tr th {\n        vertical-align: top;\n    }\n\n    .dataframe thead th {\n        text-align: right;\n    }\n</style>\n<table border=\"1\" class=\"dataframe\">\n  <thead>\n    <tr style=\"text-align: right;\">\n      <th></th>\n      <th>total_images\\tlast_price\\ttotal_area\\tfirst_day_exposition\\trooms\\tceiling_height\\tfloors_total\\tliving_area\\tfloor\\tis_apartment\\tstudio\\topen_plan\\tkitchen_area\\tbalcony\\tlocality_name\\tairports_nearest\\tcityCenters_nearest\\tparks_around3000\\tparks_nearest\\tponds_around3000\\tponds_nearest\\tdays_exposition</th>\n    </tr>\n  </thead>\n  <tbody>\n    <tr>\n      <th>0</th>\n      <td>20\\t13000000.0\\t108.0\\t2019-03-07T00:00:00\\t3\\...</td>\n    </tr>\n    <tr>\n      <th>1</th>\n      <td>7\\t3350000.0\\t40.4\\t2018-12-04T00:00:00\\t1\\t\\t...</td>\n    </tr>\n    <tr>\n      <th>2</th>\n      <td>10\\t5196000.0\\t56.0\\t2015-08-20T00:00:00\\t2\\t\\...</td>\n    </tr>\n    <tr>\n      <th>3</th>\n      <td>0\\t64900000.0\\t159.0\\t2015-07-24T00:00:00\\t3\\t...</td>\n    </tr>\n    <tr>\n      <th>4</th>\n      <td>2\\t10000000.0\\t100.0\\t2018-06-19T00:00:00\\t2\\t...</td>\n    </tr>\n  </tbody>\n</table>\n</div>"
     },
     "metadata": {},
     "output_type": "display_data"
    }
   ],
   "source": [
    "import pandas as pd\n",
    "from IPython.display import display\n",
    "\n",
    "data = pd.read_csv('real_estate_data.csv')\n",
    "display(data.head())"
   ],
   "metadata": {
    "collapsed": false,
    "pycharm": {
     "name": "#%%\n"
    }
   }
  },
  {
   "cell_type": "markdown",
   "source": [
    "Данные склеились в одну строку вместо того, чтобы разбиться по колонкам. Чтобы разделить столбцы, передадим методу `read_csv()` параметр `sep='\\t'`."
   ],
   "metadata": {
    "collapsed": false,
    "pycharm": {
     "name": "#%% md\n"
    }
   }
  },
  {
   "cell_type": "code",
   "execution_count": 382,
   "outputs": [
    {
     "data": {
      "text/plain": "   total_images  last_price  total_area first_day_exposition  rooms  \\\n0            20  13000000.0       108.0  2019-03-07T00:00:00      3   \n1             7   3350000.0        40.4  2018-12-04T00:00:00      1   \n2            10   5196000.0        56.0  2015-08-20T00:00:00      2   \n3             0  64900000.0       159.0  2015-07-24T00:00:00      3   \n4             2  10000000.0       100.0  2018-06-19T00:00:00      2   \n\n   ceiling_height  floors_total  living_area  floor is_apartment  ...  \\\n0            2.70          16.0         51.0      8          NaN  ...   \n1             NaN          11.0         18.6      1          NaN  ...   \n2             NaN           5.0         34.3      4          NaN  ...   \n3             NaN          14.0          NaN      9          NaN  ...   \n4            3.03          14.0         32.0     13          NaN  ...   \n\n   kitchen_area  balcony    locality_name  airports_nearest  \\\n0          25.0      NaN  Санкт-Петербург           18863.0   \n1          11.0      2.0   посёлок Шушары           12817.0   \n2           8.3      0.0  Санкт-Петербург           21741.0   \n3           NaN      0.0  Санкт-Петербург           28098.0   \n4          41.0      NaN  Санкт-Петербург           31856.0   \n\n  cityCenters_nearest  parks_around3000  parks_nearest  ponds_around3000  \\\n0             16028.0               1.0          482.0               2.0   \n1             18603.0               0.0            NaN               0.0   \n2             13933.0               1.0           90.0               2.0   \n3              6800.0               2.0           84.0               3.0   \n4              8098.0               2.0          112.0               1.0   \n\n   ponds_nearest  days_exposition  \n0          755.0              NaN  \n1            NaN             81.0  \n2          574.0            558.0  \n3          234.0            424.0  \n4           48.0            121.0  \n\n[5 rows x 22 columns]",
      "text/html": "<div>\n<style scoped>\n    .dataframe tbody tr th:only-of-type {\n        vertical-align: middle;\n    }\n\n    .dataframe tbody tr th {\n        vertical-align: top;\n    }\n\n    .dataframe thead th {\n        text-align: right;\n    }\n</style>\n<table border=\"1\" class=\"dataframe\">\n  <thead>\n    <tr style=\"text-align: right;\">\n      <th></th>\n      <th>total_images</th>\n      <th>last_price</th>\n      <th>total_area</th>\n      <th>first_day_exposition</th>\n      <th>rooms</th>\n      <th>ceiling_height</th>\n      <th>floors_total</th>\n      <th>living_area</th>\n      <th>floor</th>\n      <th>is_apartment</th>\n      <th>...</th>\n      <th>kitchen_area</th>\n      <th>balcony</th>\n      <th>locality_name</th>\n      <th>airports_nearest</th>\n      <th>cityCenters_nearest</th>\n      <th>parks_around3000</th>\n      <th>parks_nearest</th>\n      <th>ponds_around3000</th>\n      <th>ponds_nearest</th>\n      <th>days_exposition</th>\n    </tr>\n  </thead>\n  <tbody>\n    <tr>\n      <th>0</th>\n      <td>20</td>\n      <td>13000000.0</td>\n      <td>108.0</td>\n      <td>2019-03-07T00:00:00</td>\n      <td>3</td>\n      <td>2.70</td>\n      <td>16.0</td>\n      <td>51.0</td>\n      <td>8</td>\n      <td>NaN</td>\n      <td>...</td>\n      <td>25.0</td>\n      <td>NaN</td>\n      <td>Санкт-Петербург</td>\n      <td>18863.0</td>\n      <td>16028.0</td>\n      <td>1.0</td>\n      <td>482.0</td>\n      <td>2.0</td>\n      <td>755.0</td>\n      <td>NaN</td>\n    </tr>\n    <tr>\n      <th>1</th>\n      <td>7</td>\n      <td>3350000.0</td>\n      <td>40.4</td>\n      <td>2018-12-04T00:00:00</td>\n      <td>1</td>\n      <td>NaN</td>\n      <td>11.0</td>\n      <td>18.6</td>\n      <td>1</td>\n      <td>NaN</td>\n      <td>...</td>\n      <td>11.0</td>\n      <td>2.0</td>\n      <td>посёлок Шушары</td>\n      <td>12817.0</td>\n      <td>18603.0</td>\n      <td>0.0</td>\n      <td>NaN</td>\n      <td>0.0</td>\n      <td>NaN</td>\n      <td>81.0</td>\n    </tr>\n    <tr>\n      <th>2</th>\n      <td>10</td>\n      <td>5196000.0</td>\n      <td>56.0</td>\n      <td>2015-08-20T00:00:00</td>\n      <td>2</td>\n      <td>NaN</td>\n      <td>5.0</td>\n      <td>34.3</td>\n      <td>4</td>\n      <td>NaN</td>\n      <td>...</td>\n      <td>8.3</td>\n      <td>0.0</td>\n      <td>Санкт-Петербург</td>\n      <td>21741.0</td>\n      <td>13933.0</td>\n      <td>1.0</td>\n      <td>90.0</td>\n      <td>2.0</td>\n      <td>574.0</td>\n      <td>558.0</td>\n    </tr>\n    <tr>\n      <th>3</th>\n      <td>0</td>\n      <td>64900000.0</td>\n      <td>159.0</td>\n      <td>2015-07-24T00:00:00</td>\n      <td>3</td>\n      <td>NaN</td>\n      <td>14.0</td>\n      <td>NaN</td>\n      <td>9</td>\n      <td>NaN</td>\n      <td>...</td>\n      <td>NaN</td>\n      <td>0.0</td>\n      <td>Санкт-Петербург</td>\n      <td>28098.0</td>\n      <td>6800.0</td>\n      <td>2.0</td>\n      <td>84.0</td>\n      <td>3.0</td>\n      <td>234.0</td>\n      <td>424.0</td>\n    </tr>\n    <tr>\n      <th>4</th>\n      <td>2</td>\n      <td>10000000.0</td>\n      <td>100.0</td>\n      <td>2018-06-19T00:00:00</td>\n      <td>2</td>\n      <td>3.03</td>\n      <td>14.0</td>\n      <td>32.0</td>\n      <td>13</td>\n      <td>NaN</td>\n      <td>...</td>\n      <td>41.0</td>\n      <td>NaN</td>\n      <td>Санкт-Петербург</td>\n      <td>31856.0</td>\n      <td>8098.0</td>\n      <td>2.0</td>\n      <td>112.0</td>\n      <td>1.0</td>\n      <td>48.0</td>\n      <td>121.0</td>\n    </tr>\n  </tbody>\n</table>\n<p>5 rows × 22 columns</p>\n</div>"
     },
     "metadata": {},
     "output_type": "display_data"
    },
    {
     "name": "stdout",
     "output_type": "stream",
     "text": [
      "<class 'pandas.core.frame.DataFrame'>\n",
      "RangeIndex: 23699 entries, 0 to 23698\n",
      "Data columns (total 22 columns):\n",
      " #   Column                Non-Null Count  Dtype  \n",
      "---  ------                --------------  -----  \n",
      " 0   total_images          23699 non-null  int64  \n",
      " 1   last_price            23699 non-null  float64\n",
      " 2   total_area            23699 non-null  float64\n",
      " 3   first_day_exposition  23699 non-null  object \n",
      " 4   rooms                 23699 non-null  int64  \n",
      " 5   ceiling_height        14504 non-null  float64\n",
      " 6   floors_total          23613 non-null  float64\n",
      " 7   living_area           21796 non-null  float64\n",
      " 8   floor                 23699 non-null  int64  \n",
      " 9   is_apartment          2775 non-null   object \n",
      " 10  studio                23699 non-null  bool   \n",
      " 11  open_plan             23699 non-null  bool   \n",
      " 12  kitchen_area          21421 non-null  float64\n",
      " 13  balcony               12180 non-null  float64\n",
      " 14  locality_name         23650 non-null  object \n",
      " 15  airports_nearest      18157 non-null  float64\n",
      " 16  cityCenters_nearest   18180 non-null  float64\n",
      " 17  parks_around3000      18181 non-null  float64\n",
      " 18  parks_nearest         8079 non-null   float64\n",
      " 19  ponds_around3000      18181 non-null  float64\n",
      " 20  ponds_nearest         9110 non-null   float64\n",
      " 21  days_exposition       20518 non-null  float64\n",
      "dtypes: bool(2), float64(14), int64(3), object(3)\n",
      "memory usage: 3.7+ MB\n"
     ]
    }
   ],
   "source": [
    "data = pd.read_csv('real_estate_data.csv', sep='\\t')\n",
    "display(data.head())\n",
    "data.info()"
   ],
   "metadata": {
    "collapsed": false,
    "pycharm": {
     "name": "#%%\n"
    }
   }
  },
  {
   "cell_type": "markdown",
   "source": [
    "### Вывод\n",
    "В таблице 22 столбца и 23699 строчек. В каждой строчки таблицы - данные о квартире и ее продаже.\n",
    "\n",
    "Согласно документации\n",
    "- `airports_nearest` — расстояние до ближайшего аэропорта в метрах (м)\n",
    "- `balcony` — число балконов\n",
    "- `ceiling_height` — высота потолков (м)\n",
    "- `cityCenters_nearest` — расстояние до центра города (м)\n",
    "- `days_exposition` — сколько дней было размещено объявление (от публикации до снятия)\n",
    "- `first_day_exposition` — дата публикации\n",
    "- `floor` — этаж\n",
    "- `floors_total` — всего этажей в доме\n",
    "- `is_apartment` — апартаменты (булев тип)\n",
    "- `kitchen_area` — площадь кухни в квадратных метрах (м²)\n",
    "- `last_price` — цена на момент снятия с публикации\n",
    "- `living_area` — жилая площадь в квадратных метрах (м²)\n",
    "- `locality_name` — название населённого пункта\n",
    "- `open_plan` — свободная планировка (булев тип)\n",
    "- `parks_around3000` — число парков в радиусе 3 км\n",
    "- `parks_nearest` — расстояние до ближайшего парка (м)\n",
    "- `ponds_around3000` — число водоёмов в радиусе 3 км\n",
    "- `ponds_nearest` — расстояние до ближайшего водоёма (м)\n",
    "- `rooms` — число комнат\n",
    "- `studio` — квартира-студия (булев тип)\n",
    "- `total_area` — площадь квартиры в квадратных метрах (м²)\n",
    "- `total_images` — число фотографий квартиры в объявлении\n",
    "\n",
    "Только в 8 столбцах не встречается пропусков: `total_image`, `last_price`, `total_area`, `first_day_exposition`, `rooms`, `floor`, `studio`, `open_plan`. А в таких столбцах, как `is_apartment`, `park_nearest`, `ponds_nearest`, пропусков больше всего.\n",
    "\n",
    "У половины столбцов тип данных не соответствует действительности. У столбцов `floor_total`, `balcony`, `parks_around300`, `ponds_around3000`, `days_exposition` тип данных `float64`, хотя по их природе он должен быть строго `int64`. Данные в столбцах `airports_nearest`, `cityCenters_nearest`, `park_nearest` и `ponds_nearest` могут быть числами с плавающей запятой, но для удобства для них тоже стоит изменить тип с `float64` на `int64`, тем более это никак не повлияет на результат исследования. У колонки `first_day_exposition` тип `object`, что не соответствует действительности и должен быть `datatime64`. И у столбца `is_apartment` также тип данных противоречит его природе, поэтому следует его изменить с `object` на `bool`.\n",
    "\n",
    "В названии колонки `cityCenters_nearest` видно нарушение стиля.\n",
    "\n",
    "Чтобы двигаться дальше, нужно устранить проблемы в данных."
   ],
   "metadata": {
    "collapsed": false,
    "pycharm": {
     "name": "#%% md\n"
    }
   }
  },
  {
   "cell_type": "markdown",
   "source": [
    "## Предобработка данных"
   ],
   "metadata": {
    "collapsed": false,
    "pycharm": {
     "name": "#%% md\n"
    }
   }
  },
  {
   "cell_type": "markdown",
   "source": [
    "### Стиль заголовков\n",
    "Переименуем столбец `'cityCenters_nearest'` в `'city_centers_nearest'`:"
   ],
   "metadata": {
    "collapsed": false,
    "pycharm": {
     "name": "#%% md\n"
    }
   }
  },
  {
   "cell_type": "code",
   "execution_count": 383,
   "outputs": [
    {
     "data": {
      "text/plain": "Index(['total_images', 'last_price', 'total_area', 'first_day_exposition',\n       'rooms', 'ceiling_height', 'floors_total', 'living_area', 'floor',\n       'is_apartment', 'studio', 'open_plan', 'kitchen_area', 'balcony',\n       'locality_name', 'airports_nearest', 'city_centers_nearest',\n       'parks_around3000', 'parks_nearest', 'ponds_around3000',\n       'ponds_nearest', 'days_exposition'],\n      dtype='object')"
     },
     "execution_count": 383,
     "metadata": {},
     "output_type": "execute_result"
    }
   ],
   "source": [
    "data.rename(columns={'cityCenters_nearest': 'city_centers_nearest'}, inplace=True)\n",
    "data.columns"
   ],
   "metadata": {
    "collapsed": false,
    "pycharm": {
     "name": "#%%\n"
    }
   }
  },
  {
   "cell_type": "markdown",
   "source": [],
   "metadata": {
    "collapsed": false,
    "pycharm": {
     "name": "#%% md\n"
    }
   }
  },
  {
   "cell_type": "markdown",
   "source": [
    "Сначала посчитаем количество пропущенных значений в таблице."
   ],
   "metadata": {
    "collapsed": false,
    "pycharm": {
     "name": "#%% md\n"
    }
   }
  },
  {
   "cell_type": "code",
   "execution_count": 384,
   "outputs": [
    {
     "data": {
      "text/plain": "total_images                0\nlast_price                  0\ntotal_area                  0\nfirst_day_exposition        0\nrooms                       0\nceiling_height           9195\nfloors_total               86\nliving_area              1903\nfloor                       0\nis_apartment            20924\nstudio                      0\nopen_plan                   0\nkitchen_area             2278\nbalcony                 11519\nlocality_name              49\nairports_nearest         5542\ncity_centers_nearest     5519\nparks_around3000         5518\nparks_nearest           15620\nponds_around3000         5518\nponds_nearest           14589\ndays_exposition          3181\ndtype: int64"
     },
     "execution_count": 384,
     "metadata": {},
     "output_type": "execute_result"
    }
   ],
   "source": [
    "data.isna().sum()"
   ],
   "metadata": {
    "collapsed": false,
    "pycharm": {
     "name": "#%%\n"
    }
   }
  },
  {
   "cell_type": "markdown",
   "source": [
    "Сначала заполним пропуски в столбце `floor_total`. Пробелов в данных очень мало, вероятно они появились там из-за человеческого фактора (кто просто забыл заполнить эти данные). Будем заполнять пропуски медианным значением, если этаж, на котором находится квартира, меньше этого значения, в противном случае будем считать, что общее количество этажей равно этажу квартиры."
   ],
   "metadata": {
    "collapsed": false,
    "pycharm": {
     "name": "#%% md\n"
    }
   }
  },
  {
   "cell_type": "code",
   "execution_count": 385,
   "outputs": [],
   "source": [
    "median_floors = data['floors_total'].median()\n",
    "\n",
    "def total_floors(floor):\n",
    "    return max(floor, median_floors)\n",
    "\n",
    "mask = data['floors_total'].isna()\n",
    "data.loc[mask, 'floors_total'] = data.loc[mask, 'floor'].apply(total_floors)"
   ],
   "metadata": {
    "collapsed": false,
    "pycharm": {
     "name": "#%%\n"
    }
   }
  },
  {
   "cell_type": "markdown",
   "source": [
    "Пропусков в столбце `ceiling_height` много, почти 40%. Но так как высота потолков почти одинакова во всех квартирах и это значение не будет участвовать в проверке ни одной гипотезы, то заполним его медианой."
   ],
   "metadata": {
    "collapsed": false,
    "pycharm": {
     "name": "#%% md\n"
    }
   }
  },
  {
   "cell_type": "code",
   "execution_count": 386,
   "outputs": [],
   "source": [
    "data['ceiling_height'].fillna(data['ceiling_height'].median(), inplace=True)"
   ],
   "metadata": {
    "collapsed": false,
    "pycharm": {
     "name": "#%%\n"
    }
   }
  },
  {
   "cell_type": "markdown",
   "source": [
    "Следующими заполним пробелы в столбце `kitchen_area`, их встречается около 10%. Можно заметить закономерность: у студии (`studio = True`) нет площади кухни. С одной стороны это действительно так, так как в студии все комнаты объединены в одну, но с другой – по факту в каждой квартире есть кухня. У меньших квартир – меньшая кухня, у больших – бОльшая. Посмотрим, какое соотношение между площадью кухни и общей площадью квартиры."
   ],
   "metadata": {
    "collapsed": false,
    "pycharm": {
     "name": "#%% md\n"
    }
   }
  },
  {
   "cell_type": "code",
   "source": [
    "kitchen_total_ratio = data['kitchen_area'] / data['total_area']\n",
    "kitchen_total_ratio"
   ],
   "metadata": {
    "collapsed": false,
    "pycharm": {
     "name": "#%%\n"
    }
   },
   "execution_count": 387,
   "outputs": [
    {
     "data": {
      "text/plain": "0        0.231481\n1        0.272277\n2        0.148214\n3             NaN\n4        0.410000\n           ...   \n23694    0.103356\n23695    0.144068\n23696         NaN\n23697    0.303583\n23698    0.278638\nLength: 23699, dtype: float64"
     },
     "execution_count": 387,
     "metadata": {},
     "output_type": "execute_result"
    }
   ]
  },
  {
   "cell_type": "markdown",
   "source": [
    "Как видим, большинство кухонь занимают 0,15-0,2 площади всей квартиры. Посчитаем среднее и медиану, чтобы посмотреть подтверждаются ли наши наблюдения."
   ],
   "metadata": {
    "collapsed": false,
    "pycharm": {
     "name": "#%% md\n"
    }
   }
  },
  {
   "cell_type": "code",
   "execution_count": 388,
   "outputs": [
    {
     "name": "stdout",
     "output_type": "stream",
     "text": [
      "Среднее значение соотношения: 0.1873547387717406\n",
      "Медиана соотношения: 0.1724137931034483\n"
     ]
    }
   ],
   "source": [
    "print(f'Среднее значение соотношения: {kitchen_total_ratio.mean()}')\n",
    "print(f'Медиана соотношения: {kitchen_total_ratio.median()}')"
   ],
   "metadata": {
    "collapsed": false,
    "pycharm": {
     "name": "#%%\n"
    }
   }
  },
  {
   "cell_type": "markdown",
   "source": [
    "Заполним пробелы в столбце `kitche_area` как `медиана соотношения * total_area`"
   ],
   "metadata": {
    "collapsed": false,
    "pycharm": {
     "name": "#%% md\n"
    }
   }
  },
  {
   "cell_type": "code",
   "execution_count": 389,
   "outputs": [],
   "source": [
    "data['kitchen_area'].fillna(kitchen_total_ratio.median() * data['total_area'], inplace=True)"
   ],
   "metadata": {
    "collapsed": false,
    "pycharm": {
     "name": "#%%\n"
    }
   }
  },
  {
   "cell_type": "markdown",
   "source": [
    "С помощью такого же метода заполним пропуски в `living_area`:"
   ],
   "metadata": {
    "collapsed": false,
    "pycharm": {
     "name": "#%% md\n"
    }
   }
  },
  {
   "cell_type": "code",
   "execution_count": 390,
   "outputs": [],
   "source": [
    "living_total_ratio_median = (data['living_area'] / data['total_area']).median()\n",
    "data['living_area'].fillna(living_total_ratio_median * data['total_area'], inplace=True)"
   ],
   "metadata": {
    "collapsed": false,
    "pycharm": {
     "name": "#%%\n"
    }
   }
  },
  {
   "cell_type": "markdown",
   "source": [
    "Скорее всего, пробелы в колонке `balcony` возникли из-за того, что владельцы квартир без балконов просто игнорируют это поле в форме. Поэтому заполним `NaN` значения нулями."
   ],
   "metadata": {
    "collapsed": false,
    "pycharm": {
     "name": "#%% md\n"
    }
   }
  },
  {
   "cell_type": "code",
   "execution_count": 391,
   "outputs": [],
   "source": [
    "data['balcony'].fillna(0, inplace=True)"
   ],
   "metadata": {
    "collapsed": false,
    "pycharm": {
     "name": "#%%\n"
    }
   }
  },
  {
   "cell_type": "markdown",
   "source": [
    "В столбце `is_apartment` 88% пропусков. Это очень большой показатель, поэтому следует уточнить информацию об этих артефактах у разработчика. К сожалению, у нас нет такой возможности, поэтому будем делать предположения самостоятельно. Первое, что приходит в голову – это то, что столбцы `is_apartment`, `studio` и `open_plan` взаимоисключающие. Давайте это проверим:"
   ],
   "metadata": {
    "collapsed": false,
    "pycharm": {
     "name": "#%% md\n"
    }
   }
  },
  {
   "cell_type": "code",
   "execution_count": 392,
   "outputs": [
    {
     "data": {
      "text/plain": "0    2703\n1      72\ndtype: int64"
     },
     "execution_count": 392,
     "metadata": {},
     "output_type": "execute_result"
    }
   ],
   "source": [
    "(data['is_apartment'] + data['studio'] + data['open_plan']).value_counts()"
   ],
   "metadata": {
    "collapsed": false,
    "pycharm": {
     "name": "#%%\n"
    }
   }
  },
  {
   "cell_type": "markdown",
   "source": [
    "Действительно, если хотя бы один из трех параметров – `True`, два других - `False`; таких комбинаций в таблице 72. Но также есть 2703 комбинаций, когда все три параметра ложны (`is_apartment == False and studio == False and open_plan == False`). Итак, мы можем заменить пропуски в `is_apartment` на `False`, где хотя бы один из двух других параметров (`studio`, `open_plan`) - `True`, но мы не можем заменить пропуски на `True`, где два других столбца - `False`. Поэтому логично нам будет заменить все пропуски в этом столбце на `False`."
   ],
   "metadata": {
    "collapsed": false,
    "pycharm": {
     "name": "#%% md\n"
    }
   }
  },
  {
   "cell_type": "code",
   "execution_count": 393,
   "outputs": [],
   "source": [
    "data['is_apartment'].fillna(False, inplace=True)"
   ],
   "metadata": {
    "collapsed": false,
    "pycharm": {
     "name": "#%%\n"
    }
   }
  },
  {
   "cell_type": "markdown",
   "source": [
    "В столбце `locality_name` пропусков менше 0.5%. Найти название населенного пункта мы не можем, поэтому остается два варианта: либо удалить строки, где есть пропуски, либо заменить `NaN` значения на маркер. Сделаем первый вариант:\n"
   ],
   "metadata": {
    "collapsed": false,
    "pycharm": {
     "name": "#%% md\n"
    }
   }
  },
  {
   "cell_type": "code",
   "execution_count": 394,
   "outputs": [],
   "source": [
    "data.dropna(subset=['locality_name'], inplace=True)\n",
    "data.reset_index(drop=True, inplace=True)"
   ],
   "metadata": {
    "collapsed": false,
    "pycharm": {
     "name": "#%%\n"
    }
   }
  },
  {
   "cell_type": "markdown",
   "source": [
    "Столбец `day_exposition` сообщает нам о том, сколько дней было размещено объявление. А если объявление все еще висит? В таком случае `NaN` значения вполне нормальное явление, поэтому мы ничего не будем делать с пропусками в этом столбце.\n",
    "\n",
    "20% пропусков встречается в столбцах `airport_nearest`, `city_centers_nearest`, `parks_around3000`, `ponds_around3000` и 60% пропусков в столбцах `parks_nearest`, `ponds_nearest`. Если присмотреться к данным, то заметно, что пробелы по всем шести параметрам встречаются одновременно. Скорее всего, такое совпадение возникло из-за того, что была утрачена точная геолокация квартиры и программа не смогла автоматически просчитать эти данные. Но у нас все еще осталось название населенного пункта (`locality_name`) для этих квартир. Поэтому мы можем заполнить пробелы медианой каждой из групп населенного пункта.\n",
    "Давайте посмотрим, какие уникальные значения в столбце `locality_name`:\n"
   ],
   "metadata": {
    "collapsed": false,
    "pycharm": {
     "name": "#%% md\n"
    }
   }
  },
  {
   "cell_type": "code",
   "execution_count": 395,
   "outputs": [
    {
     "data": {
      "text/plain": "Санкт-Петербург                    15721\nпосёлок Мурино                       522\nпосёлок Шушары                       440\nВсеволожск                           398\nПушкин                               369\n                                   ...  \nпоселок Каложицы                       1\nпосёлок Платформа 69-й километр        1\nпоселок Почап                          1\nпоселок Гончарово                      1\nпосёлок Дзержинского                   1\nName: locality_name, Length: 364, dtype: int64"
     },
     "execution_count": 395,
     "metadata": {},
     "output_type": "execute_result"
    }
   ],
   "source": [
    "data['locality_name'].value_counts()"
   ],
   "metadata": {
    "collapsed": false,
    "pycharm": {
     "name": "#%%\n"
    }
   }
  },
  {
   "cell_type": "markdown",
   "source": [
    "В столбце встречаются неявные дубликаты, вызванные добавлением названия вида поселения к названию самого поселения. Например, <i>посёлок Мурино, поселок Мурино, Мурино</i>. Чтобы это устранить напишем функцию, которая будет со сроки названия населенного пункта оставлять только слово, написанное с прописной буквы (т.е. само название)."
   ],
   "metadata": {
    "collapsed": false,
    "pycharm": {
     "name": "#%% md\n"
    }
   }
  },
  {
   "cell_type": "code",
   "execution_count": 396,
   "outputs": [
    {
     "data": {
      "text/plain": "Санкт-Петербург    15721\nМурино               590\nКудрово              472\nШушары               440\nВсеволожск           398\n                   ...  \nПельгора               1\nКаложицы               1\nПлатформа              1\nПочап                  1\nДзержинского           1\nName: locality_name_unique, Length: 305, dtype: int64"
     },
     "execution_count": 396,
     "metadata": {},
     "output_type": "execute_result"
    }
   ],
   "source": [
    "def get_locality_name(locality_name):\n",
    "    return ' '.join([word for word in locality_name.split() if word[0].istitle()])\n",
    "\n",
    "data['locality_name_unique'] = data['locality_name'].apply(get_locality_name)\n",
    "data['locality_name_unique'].value_counts()"
   ],
   "metadata": {
    "collapsed": false,
    "pycharm": {
     "name": "#%%\n"
    }
   }
  },
  {
   "cell_type": "markdown",
   "source": [
    "Удалением дубликатов мы уменьшили количество уникальных значений почти на 20%. Теперь мы можем заполнить пробелы в столбцах `airport_nearest`, `city_centers_nearest`, `parks_around3000`, `ponds_around3000`, `parks_nearest`, `ponds_nearest`."
   ],
   "metadata": {
    "collapsed": false,
    "pycharm": {
     "name": "#%% md\n"
    }
   }
  },
  {
   "cell_type": "code",
   "execution_count": 397,
   "outputs": [
    {
     "data": {
      "text/plain": "total_images               0\nlast_price                 0\ntotal_area                 0\nfirst_day_exposition       0\nrooms                      0\nceiling_height             0\nfloors_total               0\nliving_area                0\nfloor                      0\nis_apartment               0\nstudio                     0\nopen_plan                  0\nkitchen_area               0\nbalcony                    0\nlocality_name              0\nairports_nearest        4829\ncity_centers_nearest    4829\nparks_around3000        4829\nparks_nearest           5998\nponds_around3000        4829\nponds_nearest           4938\ndays_exposition         3180\nlocality_name_unique       0\ndtype: int64"
     },
     "execution_count": 397,
     "metadata": {},
     "output_type": "execute_result"
    }
   ],
   "source": [
    "location_columns = ['airports_nearest', 'city_centers_nearest', 'parks_around3000', 'ponds_around3000', 'parks_nearest', 'ponds_nearest']\n",
    "\n",
    "def get_value(row, column, medians):\n",
    "    if pd.isna(row[column]):\n",
    "        return medians.loc[row['locality_name_unique']]\n",
    "    return row[column]\n",
    "\n",
    "for col in location_columns:\n",
    "    medians_data = data.groupby('locality_name_unique')[col].median()\n",
    "    data[col] = data.apply(lambda row: get_value(row, col, medians_data), axis=1)\n",
    "\n",
    "data.isna().sum()"
   ],
   "metadata": {
    "collapsed": false,
    "pycharm": {
     "name": "#%%\n"
    }
   }
  },
  {
   "cell_type": "markdown",
   "source": [
    "Хотя пропуски все еще остались, нам удалось заполнить более 600 пробелов для каждого столбца. Заполнять оставшиеся пропуски какими-то конкретными данными нет смысла, так как это может только испортить общую картину."
   ],
   "metadata": {
    "collapsed": false,
    "pycharm": {
     "name": "#%% md\n"
    }
   }
  },
  {
   "cell_type": "markdown",
   "source": [
    "### Замена типа данных"
   ],
   "metadata": {
    "collapsed": false,
    "pycharm": {
     "name": "#%% md\n"
    }
   }
  },
  {
   "cell_type": "markdown",
   "source": [
    "Давайте посмотрим еще раз на типы данных."
   ],
   "metadata": {
    "collapsed": false,
    "pycharm": {
     "name": "#%% md\n"
    }
   }
  },
  {
   "cell_type": "code",
   "execution_count": 398,
   "outputs": [
    {
     "name": "stdout",
     "output_type": "stream",
     "text": [
      "<class 'pandas.core.frame.DataFrame'>\n",
      "RangeIndex: 23650 entries, 0 to 23649\n",
      "Data columns (total 23 columns):\n",
      " #   Column                Non-Null Count  Dtype  \n",
      "---  ------                --------------  -----  \n",
      " 0   total_images          23650 non-null  int64  \n",
      " 1   last_price            23650 non-null  float64\n",
      " 2   total_area            23650 non-null  float64\n",
      " 3   first_day_exposition  23650 non-null  object \n",
      " 4   rooms                 23650 non-null  int64  \n",
      " 5   ceiling_height        23650 non-null  float64\n",
      " 6   floors_total          23650 non-null  float64\n",
      " 7   living_area           23650 non-null  float64\n",
      " 8   floor                 23650 non-null  int64  \n",
      " 9   is_apartment          23650 non-null  bool   \n",
      " 10  studio                23650 non-null  bool   \n",
      " 11  open_plan             23650 non-null  bool   \n",
      " 12  kitchen_area          23650 non-null  float64\n",
      " 13  balcony               23650 non-null  float64\n",
      " 14  locality_name         23650 non-null  object \n",
      " 15  airports_nearest      18821 non-null  float64\n",
      " 16  city_centers_nearest  18821 non-null  float64\n",
      " 17  parks_around3000      18821 non-null  float64\n",
      " 18  parks_nearest         17652 non-null  float64\n",
      " 19  ponds_around3000      18821 non-null  float64\n",
      " 20  ponds_nearest         18712 non-null  float64\n",
      " 21  days_exposition       20470 non-null  float64\n",
      " 22  locality_name_unique  23650 non-null  object \n",
      "dtypes: bool(3), float64(14), int64(3), object(3)\n",
      "memory usage: 3.7+ MB\n"
     ]
    }
   ],
   "source": [
    "data.info()"
   ],
   "metadata": {
    "collapsed": false,
    "pycharm": {
     "name": "#%%\n"
    }
   }
  },
  {
   "cell_type": "markdown",
   "source": [
    "Колонки `airports_nearest`, `city_centers_nearest`, `parks_around3000`, `parks_nearest`, `ponds_around3000`, `ponds_nearest` содержат `NaN`, который относится к `float`, поэтому мы не будем изменять тип в этих столбцах. А вот для колонок `last_price`, `total_area`, `floors_total`, `living_area`, `kitchen_area`, `balcony` изменим тип с `float` на `int`. Также изменим тип даты, чтобы было удобнее с ней работать."
   ],
   "metadata": {
    "collapsed": false,
    "pycharm": {
     "name": "#%% md\n"
    }
   }
  },
  {
   "cell_type": "code",
   "execution_count": 399,
   "outputs": [
    {
     "name": "stdout",
     "output_type": "stream",
     "text": [
      "<class 'pandas.core.frame.DataFrame'>\n",
      "RangeIndex: 23650 entries, 0 to 23649\n",
      "Data columns (total 23 columns):\n",
      " #   Column                Non-Null Count  Dtype         \n",
      "---  ------                --------------  -----         \n",
      " 0   total_images          23650 non-null  int64         \n",
      " 1   last_price            23650 non-null  int64         \n",
      " 2   total_area            23650 non-null  int64         \n",
      " 3   first_day_exposition  23650 non-null  datetime64[ns]\n",
      " 4   rooms                 23650 non-null  int64         \n",
      " 5   ceiling_height        23650 non-null  float64       \n",
      " 6   floors_total          23650 non-null  int64         \n",
      " 7   living_area           23650 non-null  int64         \n",
      " 8   floor                 23650 non-null  int64         \n",
      " 9   is_apartment          23650 non-null  bool          \n",
      " 10  studio                23650 non-null  bool          \n",
      " 11  open_plan             23650 non-null  bool          \n",
      " 12  kitchen_area          23650 non-null  int64         \n",
      " 13  balcony               23650 non-null  int64         \n",
      " 14  locality_name         23650 non-null  object        \n",
      " 15  airports_nearest      18821 non-null  float64       \n",
      " 16  city_centers_nearest  18821 non-null  float64       \n",
      " 17  parks_around3000      18821 non-null  float64       \n",
      " 18  parks_nearest         17652 non-null  float64       \n",
      " 19  ponds_around3000      18821 non-null  float64       \n",
      " 20  ponds_nearest         18712 non-null  float64       \n",
      " 21  days_exposition       20470 non-null  float64       \n",
      " 22  locality_name_unique  23650 non-null  object        \n",
      "dtypes: bool(3), datetime64[ns](1), float64(8), int64(9), object(2)\n",
      "memory usage: 3.7+ MB\n"
     ]
    }
   ],
   "source": [
    "float_columns = ['last_price', 'total_area', 'floors_total', 'living_area', 'kitchen_area', 'balcony']\n",
    "\n",
    "for col in float_columns:\n",
    "    data[col] = data[col].astype('int')\n",
    "\n",
    "data['first_day_exposition'] = pd.to_datetime(\n",
    "    data['first_day_exposition'], format='%Y-%m-%dT%H:%M:%S'\n",
    ")\n",
    "data.info()"
   ],
   "metadata": {
    "collapsed": false,
    "pycharm": {
     "name": "#%%\n"
    }
   }
  },
  {
   "cell_type": "markdown",
   "source": [
    "Все необходимые типы изменены."
   ],
   "metadata": {
    "collapsed": false,
    "pycharm": {
     "name": "#%% md\n"
    }
   }
  },
  {
   "cell_type": "markdown",
   "source": [
    "### Обработка дубликатов\n",
    "\n",
    "Проверим данные на наличие дубликатов.\n"
   ],
   "metadata": {
    "collapsed": false,
    "pycharm": {
     "name": "#%% md\n"
    }
   }
  },
  {
   "cell_type": "code",
   "execution_count": 400,
   "outputs": [
    {
     "data": {
      "text/plain": "0"
     },
     "execution_count": 400,
     "metadata": {},
     "output_type": "execute_result"
    }
   ],
   "source": [
    "data.duplicated().sum()"
   ],
   "metadata": {
    "collapsed": false,
    "pycharm": {
     "name": "#%%\n"
    }
   }
  },
  {
   "cell_type": "markdown",
   "source": [
    "Дубликатов в данных нет."
   ],
   "metadata": {
    "collapsed": false,
    "pycharm": {
     "name": "#%% md\n"
    }
   }
  },
  {
   "cell_type": "markdown",
   "source": [
    "## Расчёты и добавление результатов в таблицу"
   ],
   "metadata": {
    "collapsed": false,
    "pycharm": {
     "name": "#%% md\n"
    }
   }
  },
  {
   "cell_type": "markdown",
   "source": [
    "Посчитаем цену квадратного метра:"
   ],
   "metadata": {
    "collapsed": false,
    "pycharm": {
     "name": "#%% md\n"
    }
   }
  },
  {
   "cell_type": "code",
   "execution_count": 401,
   "outputs": [],
   "source": [
    "data['price_m2'] = data['last_price'] / data['total_area']"
   ],
   "metadata": {
    "collapsed": false,
    "pycharm": {
     "name": "#%%\n"
    }
   }
  },
  {
   "cell_type": "markdown",
   "source": [
    "Узнаем и добавим в таблицу день недели, месяц и год публикации объявления:"
   ],
   "metadata": {
    "collapsed": false,
    "pycharm": {
     "name": "#%% md\n"
    }
   }
  },
  {
   "cell_type": "code",
   "execution_count": 402,
   "outputs": [],
   "source": [
    "data['weekday'] = data['first_day_exposition'].dt.day_name()\n",
    "data['month'] = data['first_day_exposition'].dt.month_name()\n",
    "data['year'] = data['first_day_exposition'].dt.year"
   ],
   "metadata": {
    "collapsed": false,
    "pycharm": {
     "name": "#%%\n"
    }
   }
  },
  {
   "cell_type": "markdown",
   "source": [
    "Категоризируем этаж квартиры - <i>первый, последний, другой</i>."
   ],
   "metadata": {
    "collapsed": false,
    "pycharm": {
     "name": "#%% md\n"
    }
   }
  },
  {
   "cell_type": "code",
   "execution_count": 403,
   "outputs": [],
   "source": [
    "def get_floor_category(row):\n",
    "    if row['floor'] == 1:\n",
    "        return 'первый'\n",
    "    elif row['floor'] == row['floors_total']:\n",
    "        return 'последний'\n",
    "    return 'другой'\n",
    "\n",
    "data['floor_category'] = data.apply(get_floor_category, axis=1)"
   ],
   "metadata": {
    "collapsed": false,
    "pycharm": {
     "name": "#%%\n"
    }
   }
  },
  {
   "cell_type": "markdown",
   "source": [
    "Посчитаем соотношение жилой и общей площади, а также отношение площади кухни к общей."
   ],
   "metadata": {
    "collapsed": false,
    "pycharm": {
     "name": "#%% md\n"
    }
   }
  },
  {
   "cell_type": "code",
   "execution_count": 404,
   "outputs": [],
   "source": [
    "data['living_total_area_ratio'] = data['living_area'] / data['total_area']\n",
    "data['kitchen_total_area_ratio'] = data['kitchen_area'] / data['total_area']"
   ],
   "metadata": {
    "collapsed": false,
    "pycharm": {
     "name": "#%%\n"
    }
   }
  },
  {
   "cell_type": "markdown",
   "source": [
    "## Исследовательский анализ данных"
   ],
   "metadata": {
    "collapsed": false,
    "pycharm": {
     "name": "#%% md\n"
    }
   }
  },
  {
   "cell_type": "code",
   "execution_count": 405,
   "outputs": [
    {
     "ename": "TypeError",
     "evalue": "'NoneType' object is not callable",
     "output_type": "error",
     "traceback": [
      "\u001B[0;31m---------------------------------------------------------------------------\u001B[0m",
      "\u001B[0;31mTypeError\u001B[0m                                 Traceback (most recent call last)",
      "\u001B[0;32m~/data_science/env/lib/python3.10/site-packages/numpy/core/getlimits.py\u001B[0m in \u001B[0;36m__new__\u001B[0;34m(cls, dtype)\u001B[0m\n\u001B[1;32m    383\u001B[0m         \u001B[0;32mtry\u001B[0m\u001B[0;34m:\u001B[0m\u001B[0;34m\u001B[0m\u001B[0;34m\u001B[0m\u001B[0m\n\u001B[0;32m--> 384\u001B[0;31m             \u001B[0mdtype\u001B[0m \u001B[0;34m=\u001B[0m \u001B[0mnumeric\u001B[0m\u001B[0;34m.\u001B[0m\u001B[0mdtype\u001B[0m\u001B[0;34m(\u001B[0m\u001B[0mdtype\u001B[0m\u001B[0;34m)\u001B[0m\u001B[0;34m\u001B[0m\u001B[0;34m\u001B[0m\u001B[0m\n\u001B[0m\u001B[1;32m    385\u001B[0m         \u001B[0;32mexcept\u001B[0m \u001B[0mTypeError\u001B[0m\u001B[0;34m:\u001B[0m\u001B[0;34m\u001B[0m\u001B[0;34m\u001B[0m\u001B[0m\n",
      "\u001B[0;31mTypeError\u001B[0m: 'NoneType' object is not callable",
      "\nDuring handling of the above exception, another exception occurred:\n",
      "\u001B[0;31mTypeError\u001B[0m                                 Traceback (most recent call last)",
      "\u001B[0;32m/var/folders/9c/dh3yhrb55296prf50tbgxdk80000gn/T/ipykernel_58301/3254758704.py\u001B[0m in \u001B[0;36m<module>\u001B[0;34m\u001B[0m\n\u001B[0;32m----> 1\u001B[0;31m \u001B[0mdata\u001B[0m\u001B[0;34m.\u001B[0m\u001B[0mplot\u001B[0m\u001B[0;34m(\u001B[0m\u001B[0mkind\u001B[0m\u001B[0;34m=\u001B[0m\u001B[0;34m'hist'\u001B[0m\u001B[0;34m,\u001B[0m \u001B[0my\u001B[0m\u001B[0;34m=\u001B[0m\u001B[0;34m'last_price'\u001B[0m\u001B[0;34m)\u001B[0m\u001B[0;34m\u001B[0m\u001B[0;34m\u001B[0m\u001B[0m\n\u001B[0m",
      "\u001B[0;32m~/data_science/env/lib/python3.10/site-packages/pandas/plotting/_core.py\u001B[0m in \u001B[0;36m__call__\u001B[0;34m(self, *args, **kwargs)\u001B[0m\n\u001B[1;32m    970\u001B[0m                     \u001B[0mdata\u001B[0m\u001B[0;34m.\u001B[0m\u001B[0mcolumns\u001B[0m \u001B[0;34m=\u001B[0m \u001B[0mlabel_name\u001B[0m\u001B[0;34m\u001B[0m\u001B[0;34m\u001B[0m\u001B[0m\n\u001B[1;32m    971\u001B[0m \u001B[0;34m\u001B[0m\u001B[0m\n\u001B[0;32m--> 972\u001B[0;31m         \u001B[0;32mreturn\u001B[0m \u001B[0mplot_backend\u001B[0m\u001B[0;34m.\u001B[0m\u001B[0mplot\u001B[0m\u001B[0;34m(\u001B[0m\u001B[0mdata\u001B[0m\u001B[0;34m,\u001B[0m \u001B[0mkind\u001B[0m\u001B[0;34m=\u001B[0m\u001B[0mkind\u001B[0m\u001B[0;34m,\u001B[0m \u001B[0;34m**\u001B[0m\u001B[0mkwargs\u001B[0m\u001B[0;34m)\u001B[0m\u001B[0;34m\u001B[0m\u001B[0;34m\u001B[0m\u001B[0m\n\u001B[0m\u001B[1;32m    973\u001B[0m \u001B[0;34m\u001B[0m\u001B[0m\n\u001B[1;32m    974\u001B[0m     \u001B[0m__call__\u001B[0m\u001B[0;34m.\u001B[0m\u001B[0m__doc__\u001B[0m \u001B[0;34m=\u001B[0m \u001B[0m__doc__\u001B[0m\u001B[0;34m\u001B[0m\u001B[0;34m\u001B[0m\u001B[0m\n",
      "\u001B[0;32m~/data_science/env/lib/python3.10/site-packages/pandas/plotting/_matplotlib/__init__.py\u001B[0m in \u001B[0;36mplot\u001B[0;34m(data, kind, **kwargs)\u001B[0m\n\u001B[1;32m     69\u001B[0m             \u001B[0mkwargs\u001B[0m\u001B[0;34m[\u001B[0m\u001B[0;34m\"ax\"\u001B[0m\u001B[0;34m]\u001B[0m \u001B[0;34m=\u001B[0m \u001B[0mgetattr\u001B[0m\u001B[0;34m(\u001B[0m\u001B[0max\u001B[0m\u001B[0;34m,\u001B[0m \u001B[0;34m\"left_ax\"\u001B[0m\u001B[0;34m,\u001B[0m \u001B[0max\u001B[0m\u001B[0;34m)\u001B[0m\u001B[0;34m\u001B[0m\u001B[0;34m\u001B[0m\u001B[0m\n\u001B[1;32m     70\u001B[0m     \u001B[0mplot_obj\u001B[0m \u001B[0;34m=\u001B[0m \u001B[0mPLOT_CLASSES\u001B[0m\u001B[0;34m[\u001B[0m\u001B[0mkind\u001B[0m\u001B[0;34m]\u001B[0m\u001B[0;34m(\u001B[0m\u001B[0mdata\u001B[0m\u001B[0;34m,\u001B[0m \u001B[0;34m**\u001B[0m\u001B[0mkwargs\u001B[0m\u001B[0;34m)\u001B[0m\u001B[0;34m\u001B[0m\u001B[0;34m\u001B[0m\u001B[0m\n\u001B[0;32m---> 71\u001B[0;31m     \u001B[0mplot_obj\u001B[0m\u001B[0;34m.\u001B[0m\u001B[0mgenerate\u001B[0m\u001B[0;34m(\u001B[0m\u001B[0;34m)\u001B[0m\u001B[0;34m\u001B[0m\u001B[0;34m\u001B[0m\u001B[0m\n\u001B[0m\u001B[1;32m     72\u001B[0m     \u001B[0mplot_obj\u001B[0m\u001B[0;34m.\u001B[0m\u001B[0mdraw\u001B[0m\u001B[0;34m(\u001B[0m\u001B[0;34m)\u001B[0m\u001B[0;34m\u001B[0m\u001B[0;34m\u001B[0m\u001B[0m\n\u001B[1;32m     73\u001B[0m     \u001B[0;32mreturn\u001B[0m \u001B[0mplot_obj\u001B[0m\u001B[0;34m.\u001B[0m\u001B[0mresult\u001B[0m\u001B[0;34m\u001B[0m\u001B[0;34m\u001B[0m\u001B[0m\n",
      "\u001B[0;32m~/data_science/env/lib/python3.10/site-packages/pandas/plotting/_matplotlib/core.py\u001B[0m in \u001B[0;36mgenerate\u001B[0;34m(self)\u001B[0m\n\u001B[1;32m    292\u001B[0m \u001B[0;34m\u001B[0m\u001B[0m\n\u001B[1;32m    293\u001B[0m         \u001B[0;32mfor\u001B[0m \u001B[0max\u001B[0m \u001B[0;32min\u001B[0m \u001B[0mself\u001B[0m\u001B[0;34m.\u001B[0m\u001B[0maxes\u001B[0m\u001B[0;34m:\u001B[0m\u001B[0;34m\u001B[0m\u001B[0;34m\u001B[0m\u001B[0m\n\u001B[0;32m--> 294\u001B[0;31m             \u001B[0mself\u001B[0m\u001B[0;34m.\u001B[0m\u001B[0m_post_plot_logic_common\u001B[0m\u001B[0;34m(\u001B[0m\u001B[0max\u001B[0m\u001B[0;34m,\u001B[0m \u001B[0mself\u001B[0m\u001B[0;34m.\u001B[0m\u001B[0mdata\u001B[0m\u001B[0;34m)\u001B[0m\u001B[0;34m\u001B[0m\u001B[0;34m\u001B[0m\u001B[0m\n\u001B[0m\u001B[1;32m    295\u001B[0m             \u001B[0mself\u001B[0m\u001B[0;34m.\u001B[0m\u001B[0m_post_plot_logic\u001B[0m\u001B[0;34m(\u001B[0m\u001B[0max\u001B[0m\u001B[0;34m,\u001B[0m \u001B[0mself\u001B[0m\u001B[0;34m.\u001B[0m\u001B[0mdata\u001B[0m\u001B[0;34m)\u001B[0m\u001B[0;34m\u001B[0m\u001B[0;34m\u001B[0m\u001B[0m\n\u001B[1;32m    296\u001B[0m \u001B[0;34m\u001B[0m\u001B[0m\n",
      "\u001B[0;32m~/data_science/env/lib/python3.10/site-packages/pandas/plotting/_matplotlib/core.py\u001B[0m in \u001B[0;36m_post_plot_logic_common\u001B[0;34m(self, ax, data)\u001B[0m\n\u001B[1;32m    471\u001B[0m         \u001B[0;34m\"\"\"Common post process for each axes\"\"\"\u001B[0m\u001B[0;34m\u001B[0m\u001B[0;34m\u001B[0m\u001B[0m\n\u001B[1;32m    472\u001B[0m         \u001B[0;32mif\u001B[0m \u001B[0mself\u001B[0m\u001B[0;34m.\u001B[0m\u001B[0morientation\u001B[0m \u001B[0;34m==\u001B[0m \u001B[0;34m\"vertical\"\u001B[0m \u001B[0;32mor\u001B[0m \u001B[0mself\u001B[0m\u001B[0;34m.\u001B[0m\u001B[0morientation\u001B[0m \u001B[0;32mis\u001B[0m \u001B[0;32mNone\u001B[0m\u001B[0;34m:\u001B[0m\u001B[0;34m\u001B[0m\u001B[0;34m\u001B[0m\u001B[0m\n\u001B[0;32m--> 473\u001B[0;31m             \u001B[0mself\u001B[0m\u001B[0;34m.\u001B[0m\u001B[0m_apply_axis_properties\u001B[0m\u001B[0;34m(\u001B[0m\u001B[0max\u001B[0m\u001B[0;34m.\u001B[0m\u001B[0mxaxis\u001B[0m\u001B[0;34m,\u001B[0m \u001B[0mrot\u001B[0m\u001B[0;34m=\u001B[0m\u001B[0mself\u001B[0m\u001B[0;34m.\u001B[0m\u001B[0mrot\u001B[0m\u001B[0;34m,\u001B[0m \u001B[0mfontsize\u001B[0m\u001B[0;34m=\u001B[0m\u001B[0mself\u001B[0m\u001B[0;34m.\u001B[0m\u001B[0mfontsize\u001B[0m\u001B[0;34m)\u001B[0m\u001B[0;34m\u001B[0m\u001B[0;34m\u001B[0m\u001B[0m\n\u001B[0m\u001B[1;32m    474\u001B[0m             \u001B[0mself\u001B[0m\u001B[0;34m.\u001B[0m\u001B[0m_apply_axis_properties\u001B[0m\u001B[0;34m(\u001B[0m\u001B[0max\u001B[0m\u001B[0;34m.\u001B[0m\u001B[0myaxis\u001B[0m\u001B[0;34m,\u001B[0m \u001B[0mfontsize\u001B[0m\u001B[0;34m=\u001B[0m\u001B[0mself\u001B[0m\u001B[0;34m.\u001B[0m\u001B[0mfontsize\u001B[0m\u001B[0;34m)\u001B[0m\u001B[0;34m\u001B[0m\u001B[0;34m\u001B[0m\u001B[0m\n\u001B[1;32m    475\u001B[0m \u001B[0;34m\u001B[0m\u001B[0m\n",
      "\u001B[0;32m~/data_science/env/lib/python3.10/site-packages/pandas/plotting/_matplotlib/core.py\u001B[0m in \u001B[0;36m_apply_axis_properties\u001B[0;34m(self, axis, rot, fontsize)\u001B[0m\n\u001B[1;32m    559\u001B[0m         \u001B[0;32mif\u001B[0m \u001B[0mrot\u001B[0m \u001B[0;32mis\u001B[0m \u001B[0;32mnot\u001B[0m \u001B[0;32mNone\u001B[0m \u001B[0;32mor\u001B[0m \u001B[0mfontsize\u001B[0m \u001B[0;32mis\u001B[0m \u001B[0;32mnot\u001B[0m \u001B[0;32mNone\u001B[0m\u001B[0;34m:\u001B[0m\u001B[0;34m\u001B[0m\u001B[0;34m\u001B[0m\u001B[0m\n\u001B[1;32m    560\u001B[0m             \u001B[0;31m# rot=0 is a valid setting, hence the explicit None check\u001B[0m\u001B[0;34m\u001B[0m\u001B[0;34m\u001B[0m\u001B[0m\n\u001B[0;32m--> 561\u001B[0;31m             \u001B[0mlabels\u001B[0m \u001B[0;34m=\u001B[0m \u001B[0maxis\u001B[0m\u001B[0;34m.\u001B[0m\u001B[0mget_majorticklabels\u001B[0m\u001B[0;34m(\u001B[0m\u001B[0;34m)\u001B[0m \u001B[0;34m+\u001B[0m \u001B[0maxis\u001B[0m\u001B[0;34m.\u001B[0m\u001B[0mget_minorticklabels\u001B[0m\u001B[0;34m(\u001B[0m\u001B[0;34m)\u001B[0m\u001B[0;34m\u001B[0m\u001B[0;34m\u001B[0m\u001B[0m\n\u001B[0m\u001B[1;32m    562\u001B[0m             \u001B[0;32mfor\u001B[0m \u001B[0mlabel\u001B[0m \u001B[0;32min\u001B[0m \u001B[0mlabels\u001B[0m\u001B[0;34m:\u001B[0m\u001B[0;34m\u001B[0m\u001B[0;34m\u001B[0m\u001B[0m\n\u001B[1;32m    563\u001B[0m                 \u001B[0;32mif\u001B[0m \u001B[0mrot\u001B[0m \u001B[0;32mis\u001B[0m \u001B[0;32mnot\u001B[0m \u001B[0;32mNone\u001B[0m\u001B[0;34m:\u001B[0m\u001B[0;34m\u001B[0m\u001B[0;34m\u001B[0m\u001B[0m\n",
      "\u001B[0;32m~/data_science/env/lib/python3.10/site-packages/matplotlib/axis.py\u001B[0m in \u001B[0;36mget_majorticklabels\u001B[0;34m(self)\u001B[0m\n\u001B[1;32m   1199\u001B[0m     \u001B[0;32mdef\u001B[0m \u001B[0mget_majorticklabels\u001B[0m\u001B[0;34m(\u001B[0m\u001B[0mself\u001B[0m\u001B[0;34m)\u001B[0m\u001B[0;34m:\u001B[0m\u001B[0;34m\u001B[0m\u001B[0;34m\u001B[0m\u001B[0m\n\u001B[1;32m   1200\u001B[0m         \u001B[0;34m\"\"\"Return this Axis' major tick labels, as a list of `~.text.Text`.\"\"\"\u001B[0m\u001B[0;34m\u001B[0m\u001B[0;34m\u001B[0m\u001B[0m\n\u001B[0;32m-> 1201\u001B[0;31m         \u001B[0mticks\u001B[0m \u001B[0;34m=\u001B[0m \u001B[0mself\u001B[0m\u001B[0;34m.\u001B[0m\u001B[0mget_major_ticks\u001B[0m\u001B[0;34m(\u001B[0m\u001B[0;34m)\u001B[0m\u001B[0;34m\u001B[0m\u001B[0;34m\u001B[0m\u001B[0m\n\u001B[0m\u001B[1;32m   1202\u001B[0m         \u001B[0mlabels1\u001B[0m \u001B[0;34m=\u001B[0m \u001B[0;34m[\u001B[0m\u001B[0mtick\u001B[0m\u001B[0;34m.\u001B[0m\u001B[0mlabel1\u001B[0m \u001B[0;32mfor\u001B[0m \u001B[0mtick\u001B[0m \u001B[0;32min\u001B[0m \u001B[0mticks\u001B[0m \u001B[0;32mif\u001B[0m \u001B[0mtick\u001B[0m\u001B[0;34m.\u001B[0m\u001B[0mlabel1\u001B[0m\u001B[0;34m.\u001B[0m\u001B[0mget_visible\u001B[0m\u001B[0;34m(\u001B[0m\u001B[0;34m)\u001B[0m\u001B[0;34m]\u001B[0m\u001B[0;34m\u001B[0m\u001B[0;34m\u001B[0m\u001B[0m\n\u001B[1;32m   1203\u001B[0m         \u001B[0mlabels2\u001B[0m \u001B[0;34m=\u001B[0m \u001B[0;34m[\u001B[0m\u001B[0mtick\u001B[0m\u001B[0;34m.\u001B[0m\u001B[0mlabel2\u001B[0m \u001B[0;32mfor\u001B[0m \u001B[0mtick\u001B[0m \u001B[0;32min\u001B[0m \u001B[0mticks\u001B[0m \u001B[0;32mif\u001B[0m \u001B[0mtick\u001B[0m\u001B[0;34m.\u001B[0m\u001B[0mlabel2\u001B[0m\u001B[0;34m.\u001B[0m\u001B[0mget_visible\u001B[0m\u001B[0;34m(\u001B[0m\u001B[0;34m)\u001B[0m\u001B[0;34m]\u001B[0m\u001B[0;34m\u001B[0m\u001B[0;34m\u001B[0m\u001B[0m\n",
      "\u001B[0;32m~/data_science/env/lib/python3.10/site-packages/matplotlib/axis.py\u001B[0m in \u001B[0;36mget_major_ticks\u001B[0;34m(self, numticks)\u001B[0m\n\u001B[1;32m   1369\u001B[0m         \u001B[0;34mr\"\"\"Return the list of major `.Tick`\\s.\"\"\"\u001B[0m\u001B[0;34m\u001B[0m\u001B[0;34m\u001B[0m\u001B[0m\n\u001B[1;32m   1370\u001B[0m         \u001B[0;32mif\u001B[0m \u001B[0mnumticks\u001B[0m \u001B[0;32mis\u001B[0m \u001B[0;32mNone\u001B[0m\u001B[0;34m:\u001B[0m\u001B[0;34m\u001B[0m\u001B[0;34m\u001B[0m\u001B[0m\n\u001B[0;32m-> 1371\u001B[0;31m             \u001B[0mnumticks\u001B[0m \u001B[0;34m=\u001B[0m \u001B[0mlen\u001B[0m\u001B[0;34m(\u001B[0m\u001B[0mself\u001B[0m\u001B[0;34m.\u001B[0m\u001B[0mget_majorticklocs\u001B[0m\u001B[0;34m(\u001B[0m\u001B[0;34m)\u001B[0m\u001B[0;34m)\u001B[0m\u001B[0;34m\u001B[0m\u001B[0;34m\u001B[0m\u001B[0m\n\u001B[0m\u001B[1;32m   1372\u001B[0m \u001B[0;34m\u001B[0m\u001B[0m\n\u001B[1;32m   1373\u001B[0m         \u001B[0;32mwhile\u001B[0m \u001B[0mlen\u001B[0m\u001B[0;34m(\u001B[0m\u001B[0mself\u001B[0m\u001B[0;34m.\u001B[0m\u001B[0mmajorTicks\u001B[0m\u001B[0;34m)\u001B[0m \u001B[0;34m<\u001B[0m \u001B[0mnumticks\u001B[0m\u001B[0;34m:\u001B[0m\u001B[0;34m\u001B[0m\u001B[0;34m\u001B[0m\u001B[0m\n",
      "\u001B[0;32m~/data_science/env/lib/python3.10/site-packages/matplotlib/axis.py\u001B[0m in \u001B[0;36mget_majorticklocs\u001B[0;34m(self)\u001B[0m\n\u001B[1;32m   1275\u001B[0m     \u001B[0;32mdef\u001B[0m \u001B[0mget_majorticklocs\u001B[0m\u001B[0;34m(\u001B[0m\u001B[0mself\u001B[0m\u001B[0;34m)\u001B[0m\u001B[0;34m:\u001B[0m\u001B[0;34m\u001B[0m\u001B[0;34m\u001B[0m\u001B[0m\n\u001B[1;32m   1276\u001B[0m         \u001B[0;34m\"\"\"Return this Axis' major tick locations in data coordinates.\"\"\"\u001B[0m\u001B[0;34m\u001B[0m\u001B[0;34m\u001B[0m\u001B[0m\n\u001B[0;32m-> 1277\u001B[0;31m         \u001B[0;32mreturn\u001B[0m \u001B[0mself\u001B[0m\u001B[0;34m.\u001B[0m\u001B[0mmajor\u001B[0m\u001B[0;34m.\u001B[0m\u001B[0mlocator\u001B[0m\u001B[0;34m(\u001B[0m\u001B[0;34m)\u001B[0m\u001B[0;34m\u001B[0m\u001B[0;34m\u001B[0m\u001B[0m\n\u001B[0m\u001B[1;32m   1278\u001B[0m \u001B[0;34m\u001B[0m\u001B[0m\n\u001B[1;32m   1279\u001B[0m     \u001B[0;32mdef\u001B[0m \u001B[0mget_minorticklocs\u001B[0m\u001B[0;34m(\u001B[0m\u001B[0mself\u001B[0m\u001B[0;34m)\u001B[0m\u001B[0;34m:\u001B[0m\u001B[0;34m\u001B[0m\u001B[0;34m\u001B[0m\u001B[0m\n",
      "\u001B[0;32m~/data_science/env/lib/python3.10/site-packages/matplotlib/ticker.py\u001B[0m in \u001B[0;36m__call__\u001B[0;34m(self)\u001B[0m\n\u001B[1;32m   2111\u001B[0m \u001B[0;34m\u001B[0m\u001B[0m\n\u001B[1;32m   2112\u001B[0m     \u001B[0;32mdef\u001B[0m \u001B[0m__call__\u001B[0m\u001B[0;34m(\u001B[0m\u001B[0mself\u001B[0m\u001B[0;34m)\u001B[0m\u001B[0;34m:\u001B[0m\u001B[0;34m\u001B[0m\u001B[0;34m\u001B[0m\u001B[0m\n\u001B[0;32m-> 2113\u001B[0;31m         \u001B[0mvmin\u001B[0m\u001B[0;34m,\u001B[0m \u001B[0mvmax\u001B[0m \u001B[0;34m=\u001B[0m \u001B[0mself\u001B[0m\u001B[0;34m.\u001B[0m\u001B[0maxis\u001B[0m\u001B[0;34m.\u001B[0m\u001B[0mget_view_interval\u001B[0m\u001B[0;34m(\u001B[0m\u001B[0;34m)\u001B[0m\u001B[0;34m\u001B[0m\u001B[0;34m\u001B[0m\u001B[0m\n\u001B[0m\u001B[1;32m   2114\u001B[0m         \u001B[0;32mreturn\u001B[0m \u001B[0mself\u001B[0m\u001B[0;34m.\u001B[0m\u001B[0mtick_values\u001B[0m\u001B[0;34m(\u001B[0m\u001B[0mvmin\u001B[0m\u001B[0;34m,\u001B[0m \u001B[0mvmax\u001B[0m\u001B[0;34m)\u001B[0m\u001B[0;34m\u001B[0m\u001B[0;34m\u001B[0m\u001B[0m\n\u001B[1;32m   2115\u001B[0m \u001B[0;34m\u001B[0m\u001B[0m\n",
      "\u001B[0;32m~/data_science/env/lib/python3.10/site-packages/matplotlib/axis.py\u001B[0m in \u001B[0;36mgetter\u001B[0;34m(self)\u001B[0m\n\u001B[1;32m   1985\u001B[0m     \u001B[0;32mdef\u001B[0m \u001B[0mgetter\u001B[0m\u001B[0;34m(\u001B[0m\u001B[0mself\u001B[0m\u001B[0;34m)\u001B[0m\u001B[0;34m:\u001B[0m\u001B[0;34m\u001B[0m\u001B[0;34m\u001B[0m\u001B[0m\n\u001B[1;32m   1986\u001B[0m         \u001B[0;31m# docstring inherited.\u001B[0m\u001B[0;34m\u001B[0m\u001B[0;34m\u001B[0m\u001B[0m\n\u001B[0;32m-> 1987\u001B[0;31m         \u001B[0;32mreturn\u001B[0m \u001B[0mgetattr\u001B[0m\u001B[0;34m(\u001B[0m\u001B[0mgetattr\u001B[0m\u001B[0;34m(\u001B[0m\u001B[0mself\u001B[0m\u001B[0;34m.\u001B[0m\u001B[0maxes\u001B[0m\u001B[0;34m,\u001B[0m \u001B[0mlim_name\u001B[0m\u001B[0;34m)\u001B[0m\u001B[0;34m,\u001B[0m \u001B[0mattr_name\u001B[0m\u001B[0;34m)\u001B[0m\u001B[0;34m\u001B[0m\u001B[0;34m\u001B[0m\u001B[0m\n\u001B[0m\u001B[1;32m   1988\u001B[0m \u001B[0;34m\u001B[0m\u001B[0m\n\u001B[1;32m   1989\u001B[0m     \u001B[0;32mdef\u001B[0m \u001B[0msetter\u001B[0m\u001B[0;34m(\u001B[0m\u001B[0mself\u001B[0m\u001B[0;34m,\u001B[0m \u001B[0mvmin\u001B[0m\u001B[0;34m,\u001B[0m \u001B[0mvmax\u001B[0m\u001B[0;34m,\u001B[0m \u001B[0mignore\u001B[0m\u001B[0;34m=\u001B[0m\u001B[0;32mFalse\u001B[0m\u001B[0;34m)\u001B[0m\u001B[0;34m:\u001B[0m\u001B[0;34m\u001B[0m\u001B[0;34m\u001B[0m\u001B[0m\n",
      "\u001B[0;32m~/data_science/env/lib/python3.10/site-packages/matplotlib/axes/_base.py\u001B[0m in \u001B[0;36mviewLim\u001B[0;34m(self)\u001B[0m\n\u001B[1;32m    779\u001B[0m     \u001B[0;34m@\u001B[0m\u001B[0mproperty\u001B[0m\u001B[0;34m\u001B[0m\u001B[0;34m\u001B[0m\u001B[0m\n\u001B[1;32m    780\u001B[0m     \u001B[0;32mdef\u001B[0m \u001B[0mviewLim\u001B[0m\u001B[0;34m(\u001B[0m\u001B[0mself\u001B[0m\u001B[0;34m)\u001B[0m\u001B[0;34m:\u001B[0m\u001B[0;34m\u001B[0m\u001B[0;34m\u001B[0m\u001B[0m\n\u001B[0;32m--> 781\u001B[0;31m         \u001B[0mself\u001B[0m\u001B[0;34m.\u001B[0m\u001B[0m_unstale_viewLim\u001B[0m\u001B[0;34m(\u001B[0m\u001B[0;34m)\u001B[0m\u001B[0;34m\u001B[0m\u001B[0;34m\u001B[0m\u001B[0m\n\u001B[0m\u001B[1;32m    782\u001B[0m         \u001B[0;32mreturn\u001B[0m \u001B[0mself\u001B[0m\u001B[0;34m.\u001B[0m\u001B[0m_viewLim\u001B[0m\u001B[0;34m\u001B[0m\u001B[0;34m\u001B[0m\u001B[0m\n\u001B[1;32m    783\u001B[0m \u001B[0;34m\u001B[0m\u001B[0m\n",
      "\u001B[0;32m~/data_science/env/lib/python3.10/site-packages/matplotlib/axes/_base.py\u001B[0m in \u001B[0;36m_unstale_viewLim\u001B[0;34m(self)\u001B[0m\n\u001B[1;32m    774\u001B[0m                 \u001B[0;32mfor\u001B[0m \u001B[0max\u001B[0m \u001B[0;32min\u001B[0m \u001B[0mself\u001B[0m\u001B[0;34m.\u001B[0m\u001B[0m_shared_axes\u001B[0m\u001B[0;34m[\u001B[0m\u001B[0mname\u001B[0m\u001B[0;34m]\u001B[0m\u001B[0;34m.\u001B[0m\u001B[0mget_siblings\u001B[0m\u001B[0;34m(\u001B[0m\u001B[0mself\u001B[0m\u001B[0;34m)\u001B[0m\u001B[0;34m:\u001B[0m\u001B[0;34m\u001B[0m\u001B[0;34m\u001B[0m\u001B[0m\n\u001B[1;32m    775\u001B[0m                     \u001B[0max\u001B[0m\u001B[0;34m.\u001B[0m\u001B[0m_stale_viewlims\u001B[0m\u001B[0;34m[\u001B[0m\u001B[0mname\u001B[0m\u001B[0;34m]\u001B[0m \u001B[0;34m=\u001B[0m \u001B[0;32mFalse\u001B[0m\u001B[0;34m\u001B[0m\u001B[0;34m\u001B[0m\u001B[0m\n\u001B[0;32m--> 776\u001B[0;31m             self.autoscale_view(**{f\"scale{name}\": scale\n\u001B[0m\u001B[1;32m    777\u001B[0m                                    for name, scale in need_scale.items()})\n\u001B[1;32m    778\u001B[0m \u001B[0;34m\u001B[0m\u001B[0m\n",
      "\u001B[0;32m~/data_science/env/lib/python3.10/site-packages/matplotlib/axes/_base.py\u001B[0m in \u001B[0;36mautoscale_view\u001B[0;34m(self, tight, scalex, scaley)\u001B[0m\n\u001B[1;32m   2930\u001B[0m             \u001B[0;31m# End of definition of internal function 'handle_single_axis'.\u001B[0m\u001B[0;34m\u001B[0m\u001B[0;34m\u001B[0m\u001B[0m\n\u001B[1;32m   2931\u001B[0m \u001B[0;34m\u001B[0m\u001B[0m\n\u001B[0;32m-> 2932\u001B[0;31m         handle_single_axis(\n\u001B[0m\u001B[1;32m   2933\u001B[0m             \u001B[0mscalex\u001B[0m\u001B[0;34m,\u001B[0m \u001B[0mself\u001B[0m\u001B[0;34m.\u001B[0m\u001B[0m_autoscaleXon\u001B[0m\u001B[0;34m,\u001B[0m \u001B[0mself\u001B[0m\u001B[0;34m.\u001B[0m\u001B[0m_shared_axes\u001B[0m\u001B[0;34m[\u001B[0m\u001B[0;34m\"x\"\u001B[0m\u001B[0;34m]\u001B[0m\u001B[0;34m,\u001B[0m \u001B[0;34m'x'\u001B[0m\u001B[0;34m,\u001B[0m\u001B[0;34m\u001B[0m\u001B[0;34m\u001B[0m\u001B[0m\n\u001B[1;32m   2934\u001B[0m             self.xaxis, self._xmargin, x_stickies, self.set_xbound)\n",
      "\u001B[0;32m~/data_science/env/lib/python3.10/site-packages/matplotlib/axes/_base.py\u001B[0m in \u001B[0;36mhandle_single_axis\u001B[0;34m(scale, autoscaleon, shared_axes, name, axis, margin, stickies, set_bound)\u001B[0m\n\u001B[1;32m   2893\u001B[0m             \u001B[0;31m# default limits.\u001B[0m\u001B[0;34m\u001B[0m\u001B[0;34m\u001B[0m\u001B[0m\n\u001B[1;32m   2894\u001B[0m             \u001B[0mlocator\u001B[0m \u001B[0;34m=\u001B[0m \u001B[0maxis\u001B[0m\u001B[0;34m.\u001B[0m\u001B[0mget_major_locator\u001B[0m\u001B[0;34m(\u001B[0m\u001B[0;34m)\u001B[0m\u001B[0;34m\u001B[0m\u001B[0;34m\u001B[0m\u001B[0m\n\u001B[0;32m-> 2895\u001B[0;31m             \u001B[0mx0\u001B[0m\u001B[0;34m,\u001B[0m \u001B[0mx1\u001B[0m \u001B[0;34m=\u001B[0m \u001B[0mlocator\u001B[0m\u001B[0;34m.\u001B[0m\u001B[0mnonsingular\u001B[0m\u001B[0;34m(\u001B[0m\u001B[0mx0\u001B[0m\u001B[0;34m,\u001B[0m \u001B[0mx1\u001B[0m\u001B[0;34m)\u001B[0m\u001B[0;34m\u001B[0m\u001B[0;34m\u001B[0m\u001B[0m\n\u001B[0m\u001B[1;32m   2896\u001B[0m \u001B[0;34m\u001B[0m\u001B[0m\n\u001B[1;32m   2897\u001B[0m             \u001B[0;31m# Prevent margin addition from crossing a sticky value.  A small\u001B[0m\u001B[0;34m\u001B[0m\u001B[0;34m\u001B[0m\u001B[0m\n",
      "\u001B[0;32m~/data_science/env/lib/python3.10/site-packages/matplotlib/ticker.py\u001B[0m in \u001B[0;36mnonsingular\u001B[0;34m(self, v0, v1)\u001B[0m\n\u001B[1;32m   1652\u001B[0m         \u001B[0;34m-\u001B[0m \u001B[0mOtherwise\u001B[0m\u001B[0;34m,\u001B[0m\u001B[0;31m \u001B[0m\u001B[0;31m`\u001B[0m\u001B[0;31m`\u001B[0m\u001B[0;34m(\u001B[0m\u001B[0mv0\u001B[0m\u001B[0;34m,\u001B[0m \u001B[0mv1\u001B[0m\u001B[0;34m)\u001B[0m\u001B[0;31m`\u001B[0m\u001B[0;31m`\u001B[0m \u001B[0;32mis\u001B[0m \u001B[0mreturned\u001B[0m \u001B[0mwithout\u001B[0m \u001B[0mmodification\u001B[0m\u001B[0;34m.\u001B[0m\u001B[0;34m\u001B[0m\u001B[0;34m\u001B[0m\u001B[0m\n\u001B[1;32m   1653\u001B[0m         \"\"\"\n\u001B[0;32m-> 1654\u001B[0;31m         \u001B[0;32mreturn\u001B[0m \u001B[0mmtransforms\u001B[0m\u001B[0;34m.\u001B[0m\u001B[0mnonsingular\u001B[0m\u001B[0;34m(\u001B[0m\u001B[0mv0\u001B[0m\u001B[0;34m,\u001B[0m \u001B[0mv1\u001B[0m\u001B[0;34m,\u001B[0m \u001B[0mexpander\u001B[0m\u001B[0;34m=\u001B[0m\u001B[0;36m.05\u001B[0m\u001B[0;34m)\u001B[0m\u001B[0;34m\u001B[0m\u001B[0;34m\u001B[0m\u001B[0m\n\u001B[0m\u001B[1;32m   1655\u001B[0m \u001B[0;34m\u001B[0m\u001B[0m\n\u001B[1;32m   1656\u001B[0m     \u001B[0;32mdef\u001B[0m \u001B[0mview_limits\u001B[0m\u001B[0;34m(\u001B[0m\u001B[0mself\u001B[0m\u001B[0;34m,\u001B[0m \u001B[0mvmin\u001B[0m\u001B[0;34m,\u001B[0m \u001B[0mvmax\u001B[0m\u001B[0;34m)\u001B[0m\u001B[0;34m:\u001B[0m\u001B[0;34m\u001B[0m\u001B[0;34m\u001B[0m\u001B[0m\n",
      "\u001B[0;32m~/data_science/env/lib/python3.10/site-packages/matplotlib/transforms.py\u001B[0m in \u001B[0;36mnonsingular\u001B[0;34m(vmin, vmax, expander, tiny, increasing)\u001B[0m\n\u001B[1;32m   2878\u001B[0m \u001B[0;34m\u001B[0m\u001B[0m\n\u001B[1;32m   2879\u001B[0m     \u001B[0mmaxabsvalue\u001B[0m \u001B[0;34m=\u001B[0m \u001B[0mmax\u001B[0m\u001B[0;34m(\u001B[0m\u001B[0mabs\u001B[0m\u001B[0;34m(\u001B[0m\u001B[0mvmin\u001B[0m\u001B[0;34m)\u001B[0m\u001B[0;34m,\u001B[0m \u001B[0mabs\u001B[0m\u001B[0;34m(\u001B[0m\u001B[0mvmax\u001B[0m\u001B[0;34m)\u001B[0m\u001B[0;34m)\u001B[0m\u001B[0;34m\u001B[0m\u001B[0;34m\u001B[0m\u001B[0m\n\u001B[0;32m-> 2880\u001B[0;31m     \u001B[0;32mif\u001B[0m \u001B[0mmaxabsvalue\u001B[0m \u001B[0;34m<\u001B[0m \u001B[0;34m(\u001B[0m\u001B[0;36m1e6\u001B[0m \u001B[0;34m/\u001B[0m \u001B[0mtiny\u001B[0m\u001B[0;34m)\u001B[0m \u001B[0;34m*\u001B[0m \u001B[0mnp\u001B[0m\u001B[0;34m.\u001B[0m\u001B[0mfinfo\u001B[0m\u001B[0;34m(\u001B[0m\u001B[0mfloat\u001B[0m\u001B[0;34m)\u001B[0m\u001B[0;34m.\u001B[0m\u001B[0mtiny\u001B[0m\u001B[0;34m:\u001B[0m\u001B[0;34m\u001B[0m\u001B[0;34m\u001B[0m\u001B[0m\n\u001B[0m\u001B[1;32m   2881\u001B[0m         \u001B[0mvmin\u001B[0m \u001B[0;34m=\u001B[0m \u001B[0;34m-\u001B[0m\u001B[0mexpander\u001B[0m\u001B[0;34m\u001B[0m\u001B[0;34m\u001B[0m\u001B[0m\n\u001B[1;32m   2882\u001B[0m         \u001B[0mvmax\u001B[0m \u001B[0;34m=\u001B[0m \u001B[0mexpander\u001B[0m\u001B[0;34m\u001B[0m\u001B[0;34m\u001B[0m\u001B[0m\n",
      "\u001B[0;32m~/data_science/env/lib/python3.10/site-packages/numpy/core/getlimits.py\u001B[0m in \u001B[0;36m__new__\u001B[0;34m(cls, dtype)\u001B[0m\n\u001B[1;32m    385\u001B[0m         \u001B[0;32mexcept\u001B[0m \u001B[0mTypeError\u001B[0m\u001B[0;34m:\u001B[0m\u001B[0;34m\u001B[0m\u001B[0;34m\u001B[0m\u001B[0m\n\u001B[1;32m    386\u001B[0m             \u001B[0;31m# In case a float instance was given\u001B[0m\u001B[0;34m\u001B[0m\u001B[0;34m\u001B[0m\u001B[0m\n\u001B[0;32m--> 387\u001B[0;31m             \u001B[0mdtype\u001B[0m \u001B[0;34m=\u001B[0m \u001B[0mnumeric\u001B[0m\u001B[0;34m.\u001B[0m\u001B[0mdtype\u001B[0m\u001B[0;34m(\u001B[0m\u001B[0mtype\u001B[0m\u001B[0;34m(\u001B[0m\u001B[0mdtype\u001B[0m\u001B[0;34m)\u001B[0m\u001B[0;34m)\u001B[0m\u001B[0;34m\u001B[0m\u001B[0;34m\u001B[0m\u001B[0m\n\u001B[0m\u001B[1;32m    388\u001B[0m \u001B[0;34m\u001B[0m\u001B[0m\n\u001B[1;32m    389\u001B[0m         \u001B[0mobj\u001B[0m \u001B[0;34m=\u001B[0m \u001B[0mcls\u001B[0m\u001B[0;34m.\u001B[0m\u001B[0m_finfo_cache\u001B[0m\u001B[0;34m.\u001B[0m\u001B[0mget\u001B[0m\u001B[0;34m(\u001B[0m\u001B[0mdtype\u001B[0m\u001B[0;34m,\u001B[0m \u001B[0;32mNone\u001B[0m\u001B[0;34m)\u001B[0m\u001B[0;34m\u001B[0m\u001B[0;34m\u001B[0m\u001B[0m\n",
      "\u001B[0;31mTypeError\u001B[0m: 'NoneType' object is not callable"
     ]
    },
    {
     "ename": "TypeError",
     "evalue": "'NoneType' object is not callable",
     "output_type": "error",
     "traceback": [
      "\u001B[0;31m---------------------------------------------------------------------------\u001B[0m",
      "\u001B[0;31mTypeError\u001B[0m                                 Traceback (most recent call last)",
      "\u001B[0;32m~/data_science/env/lib/python3.10/site-packages/numpy/core/getlimits.py\u001B[0m in \u001B[0;36m__new__\u001B[0;34m(cls, dtype)\u001B[0m\n\u001B[1;32m    383\u001B[0m         \u001B[0;32mtry\u001B[0m\u001B[0;34m:\u001B[0m\u001B[0;34m\u001B[0m\u001B[0;34m\u001B[0m\u001B[0m\n\u001B[0;32m--> 384\u001B[0;31m             \u001B[0mdtype\u001B[0m \u001B[0;34m=\u001B[0m \u001B[0mnumeric\u001B[0m\u001B[0;34m.\u001B[0m\u001B[0mdtype\u001B[0m\u001B[0;34m(\u001B[0m\u001B[0mdtype\u001B[0m\u001B[0;34m)\u001B[0m\u001B[0;34m\u001B[0m\u001B[0;34m\u001B[0m\u001B[0m\n\u001B[0m\u001B[1;32m    385\u001B[0m         \u001B[0;32mexcept\u001B[0m \u001B[0mTypeError\u001B[0m\u001B[0;34m:\u001B[0m\u001B[0;34m\u001B[0m\u001B[0;34m\u001B[0m\u001B[0m\n",
      "\u001B[0;31mTypeError\u001B[0m: 'NoneType' object is not callable",
      "\nDuring handling of the above exception, another exception occurred:\n",
      "\u001B[0;31mTypeError\u001B[0m                                 Traceback (most recent call last)",
      "\u001B[0;32m~/data_science/env/lib/python3.10/site-packages/matplotlib_inline/backend_inline.py\u001B[0m in \u001B[0;36mshow\u001B[0;34m(close, block)\u001B[0m\n\u001B[1;32m     41\u001B[0m             display(\n\u001B[1;32m     42\u001B[0m                 \u001B[0mfigure_manager\u001B[0m\u001B[0;34m.\u001B[0m\u001B[0mcanvas\u001B[0m\u001B[0;34m.\u001B[0m\u001B[0mfigure\u001B[0m\u001B[0;34m,\u001B[0m\u001B[0;34m\u001B[0m\u001B[0;34m\u001B[0m\u001B[0m\n\u001B[0;32m---> 43\u001B[0;31m                 \u001B[0mmetadata\u001B[0m\u001B[0;34m=\u001B[0m\u001B[0m_fetch_figure_metadata\u001B[0m\u001B[0;34m(\u001B[0m\u001B[0mfigure_manager\u001B[0m\u001B[0;34m.\u001B[0m\u001B[0mcanvas\u001B[0m\u001B[0;34m.\u001B[0m\u001B[0mfigure\u001B[0m\u001B[0;34m)\u001B[0m\u001B[0;34m\u001B[0m\u001B[0;34m\u001B[0m\u001B[0m\n\u001B[0m\u001B[1;32m     44\u001B[0m             )\n\u001B[1;32m     45\u001B[0m     \u001B[0;32mfinally\u001B[0m\u001B[0;34m:\u001B[0m\u001B[0;34m\u001B[0m\u001B[0;34m\u001B[0m\u001B[0m\n",
      "\u001B[0;32m~/data_science/env/lib/python3.10/site-packages/matplotlib_inline/backend_inline.py\u001B[0m in \u001B[0;36m_fetch_figure_metadata\u001B[0;34m(fig)\u001B[0m\n\u001B[1;32m    229\u001B[0m     \u001B[0;32mif\u001B[0m \u001B[0m_is_transparent\u001B[0m\u001B[0;34m(\u001B[0m\u001B[0mfig\u001B[0m\u001B[0;34m.\u001B[0m\u001B[0mget_facecolor\u001B[0m\u001B[0;34m(\u001B[0m\u001B[0;34m)\u001B[0m\u001B[0;34m)\u001B[0m\u001B[0;34m:\u001B[0m\u001B[0;34m\u001B[0m\u001B[0;34m\u001B[0m\u001B[0m\n\u001B[1;32m    230\u001B[0m         \u001B[0;31m# the background is transparent\u001B[0m\u001B[0;34m\u001B[0m\u001B[0;34m\u001B[0m\u001B[0m\n\u001B[0;32m--> 231\u001B[0;31m         ticksLight = _is_light([label.get_color()\n\u001B[0m\u001B[1;32m    232\u001B[0m                                 \u001B[0;32mfor\u001B[0m \u001B[0maxes\u001B[0m \u001B[0;32min\u001B[0m \u001B[0mfig\u001B[0m\u001B[0;34m.\u001B[0m\u001B[0maxes\u001B[0m\u001B[0;34m\u001B[0m\u001B[0;34m\u001B[0m\u001B[0m\n\u001B[1;32m    233\u001B[0m                                 \u001B[0;32mfor\u001B[0m \u001B[0maxis\u001B[0m \u001B[0;32min\u001B[0m \u001B[0;34m(\u001B[0m\u001B[0maxes\u001B[0m\u001B[0;34m.\u001B[0m\u001B[0mxaxis\u001B[0m\u001B[0;34m,\u001B[0m \u001B[0maxes\u001B[0m\u001B[0;34m.\u001B[0m\u001B[0myaxis\u001B[0m\u001B[0;34m)\u001B[0m\u001B[0;34m\u001B[0m\u001B[0;34m\u001B[0m\u001B[0m\n",
      "\u001B[0;32m~/data_science/env/lib/python3.10/site-packages/matplotlib_inline/backend_inline.py\u001B[0m in \u001B[0;36m<listcomp>\u001B[0;34m(.0)\u001B[0m\n\u001B[1;32m    232\u001B[0m                                 \u001B[0;32mfor\u001B[0m \u001B[0maxes\u001B[0m \u001B[0;32min\u001B[0m \u001B[0mfig\u001B[0m\u001B[0;34m.\u001B[0m\u001B[0maxes\u001B[0m\u001B[0;34m\u001B[0m\u001B[0;34m\u001B[0m\u001B[0m\n\u001B[1;32m    233\u001B[0m                                 \u001B[0;32mfor\u001B[0m \u001B[0maxis\u001B[0m \u001B[0;32min\u001B[0m \u001B[0;34m(\u001B[0m\u001B[0maxes\u001B[0m\u001B[0;34m.\u001B[0m\u001B[0mxaxis\u001B[0m\u001B[0;34m,\u001B[0m \u001B[0maxes\u001B[0m\u001B[0;34m.\u001B[0m\u001B[0myaxis\u001B[0m\u001B[0;34m)\u001B[0m\u001B[0;34m\u001B[0m\u001B[0;34m\u001B[0m\u001B[0m\n\u001B[0;32m--> 234\u001B[0;31m                                 for label in axis.get_ticklabels()])\n\u001B[0m\u001B[1;32m    235\u001B[0m         \u001B[0;32mif\u001B[0m \u001B[0mticksLight\u001B[0m\u001B[0;34m.\u001B[0m\u001B[0msize\u001B[0m \u001B[0;32mand\u001B[0m \u001B[0;34m(\u001B[0m\u001B[0mticksLight\u001B[0m \u001B[0;34m==\u001B[0m \u001B[0mticksLight\u001B[0m\u001B[0;34m[\u001B[0m\u001B[0;36m0\u001B[0m\u001B[0;34m]\u001B[0m\u001B[0;34m)\u001B[0m\u001B[0;34m.\u001B[0m\u001B[0mall\u001B[0m\u001B[0;34m(\u001B[0m\u001B[0;34m)\u001B[0m\u001B[0;34m:\u001B[0m\u001B[0;34m\u001B[0m\u001B[0;34m\u001B[0m\u001B[0m\n\u001B[1;32m    236\u001B[0m             \u001B[0;31m# there are one or more tick labels, all with the same lightness\u001B[0m\u001B[0;34m\u001B[0m\u001B[0;34m\u001B[0m\u001B[0m\n",
      "\u001B[0;32m~/data_science/env/lib/python3.10/site-packages/matplotlib/axis.py\u001B[0m in \u001B[0;36mget_ticklabels\u001B[0;34m(self, minor, which)\u001B[0m\n\u001B[1;32m   1247\u001B[0m         \u001B[0;32mif\u001B[0m \u001B[0mminor\u001B[0m\u001B[0;34m:\u001B[0m\u001B[0;34m\u001B[0m\u001B[0;34m\u001B[0m\u001B[0m\n\u001B[1;32m   1248\u001B[0m             \u001B[0;32mreturn\u001B[0m \u001B[0mself\u001B[0m\u001B[0;34m.\u001B[0m\u001B[0mget_minorticklabels\u001B[0m\u001B[0;34m(\u001B[0m\u001B[0;34m)\u001B[0m\u001B[0;34m\u001B[0m\u001B[0;34m\u001B[0m\u001B[0m\n\u001B[0;32m-> 1249\u001B[0;31m         \u001B[0;32mreturn\u001B[0m \u001B[0mself\u001B[0m\u001B[0;34m.\u001B[0m\u001B[0mget_majorticklabels\u001B[0m\u001B[0;34m(\u001B[0m\u001B[0;34m)\u001B[0m\u001B[0;34m\u001B[0m\u001B[0;34m\u001B[0m\u001B[0m\n\u001B[0m\u001B[1;32m   1250\u001B[0m \u001B[0;34m\u001B[0m\u001B[0m\n\u001B[1;32m   1251\u001B[0m     \u001B[0;32mdef\u001B[0m \u001B[0mget_majorticklines\u001B[0m\u001B[0;34m(\u001B[0m\u001B[0mself\u001B[0m\u001B[0;34m)\u001B[0m\u001B[0;34m:\u001B[0m\u001B[0;34m\u001B[0m\u001B[0;34m\u001B[0m\u001B[0m\n",
      "\u001B[0;32m~/data_science/env/lib/python3.10/site-packages/matplotlib/axis.py\u001B[0m in \u001B[0;36mget_majorticklabels\u001B[0;34m(self)\u001B[0m\n\u001B[1;32m   1199\u001B[0m     \u001B[0;32mdef\u001B[0m \u001B[0mget_majorticklabels\u001B[0m\u001B[0;34m(\u001B[0m\u001B[0mself\u001B[0m\u001B[0;34m)\u001B[0m\u001B[0;34m:\u001B[0m\u001B[0;34m\u001B[0m\u001B[0;34m\u001B[0m\u001B[0m\n\u001B[1;32m   1200\u001B[0m         \u001B[0;34m\"\"\"Return this Axis' major tick labels, as a list of `~.text.Text`.\"\"\"\u001B[0m\u001B[0;34m\u001B[0m\u001B[0;34m\u001B[0m\u001B[0m\n\u001B[0;32m-> 1201\u001B[0;31m         \u001B[0mticks\u001B[0m \u001B[0;34m=\u001B[0m \u001B[0mself\u001B[0m\u001B[0;34m.\u001B[0m\u001B[0mget_major_ticks\u001B[0m\u001B[0;34m(\u001B[0m\u001B[0;34m)\u001B[0m\u001B[0;34m\u001B[0m\u001B[0;34m\u001B[0m\u001B[0m\n\u001B[0m\u001B[1;32m   1202\u001B[0m         \u001B[0mlabels1\u001B[0m \u001B[0;34m=\u001B[0m \u001B[0;34m[\u001B[0m\u001B[0mtick\u001B[0m\u001B[0;34m.\u001B[0m\u001B[0mlabel1\u001B[0m \u001B[0;32mfor\u001B[0m \u001B[0mtick\u001B[0m \u001B[0;32min\u001B[0m \u001B[0mticks\u001B[0m \u001B[0;32mif\u001B[0m \u001B[0mtick\u001B[0m\u001B[0;34m.\u001B[0m\u001B[0mlabel1\u001B[0m\u001B[0;34m.\u001B[0m\u001B[0mget_visible\u001B[0m\u001B[0;34m(\u001B[0m\u001B[0;34m)\u001B[0m\u001B[0;34m]\u001B[0m\u001B[0;34m\u001B[0m\u001B[0;34m\u001B[0m\u001B[0m\n\u001B[1;32m   1203\u001B[0m         \u001B[0mlabels2\u001B[0m \u001B[0;34m=\u001B[0m \u001B[0;34m[\u001B[0m\u001B[0mtick\u001B[0m\u001B[0;34m.\u001B[0m\u001B[0mlabel2\u001B[0m \u001B[0;32mfor\u001B[0m \u001B[0mtick\u001B[0m \u001B[0;32min\u001B[0m \u001B[0mticks\u001B[0m \u001B[0;32mif\u001B[0m \u001B[0mtick\u001B[0m\u001B[0;34m.\u001B[0m\u001B[0mlabel2\u001B[0m\u001B[0;34m.\u001B[0m\u001B[0mget_visible\u001B[0m\u001B[0;34m(\u001B[0m\u001B[0;34m)\u001B[0m\u001B[0;34m]\u001B[0m\u001B[0;34m\u001B[0m\u001B[0;34m\u001B[0m\u001B[0m\n",
      "\u001B[0;32m~/data_science/env/lib/python3.10/site-packages/matplotlib/axis.py\u001B[0m in \u001B[0;36mget_major_ticks\u001B[0;34m(self, numticks)\u001B[0m\n\u001B[1;32m   1369\u001B[0m         \u001B[0;34mr\"\"\"Return the list of major `.Tick`\\s.\"\"\"\u001B[0m\u001B[0;34m\u001B[0m\u001B[0;34m\u001B[0m\u001B[0m\n\u001B[1;32m   1370\u001B[0m         \u001B[0;32mif\u001B[0m \u001B[0mnumticks\u001B[0m \u001B[0;32mis\u001B[0m \u001B[0;32mNone\u001B[0m\u001B[0;34m:\u001B[0m\u001B[0;34m\u001B[0m\u001B[0;34m\u001B[0m\u001B[0m\n\u001B[0;32m-> 1371\u001B[0;31m             \u001B[0mnumticks\u001B[0m \u001B[0;34m=\u001B[0m \u001B[0mlen\u001B[0m\u001B[0;34m(\u001B[0m\u001B[0mself\u001B[0m\u001B[0;34m.\u001B[0m\u001B[0mget_majorticklocs\u001B[0m\u001B[0;34m(\u001B[0m\u001B[0;34m)\u001B[0m\u001B[0;34m)\u001B[0m\u001B[0;34m\u001B[0m\u001B[0;34m\u001B[0m\u001B[0m\n\u001B[0m\u001B[1;32m   1372\u001B[0m \u001B[0;34m\u001B[0m\u001B[0m\n\u001B[1;32m   1373\u001B[0m         \u001B[0;32mwhile\u001B[0m \u001B[0mlen\u001B[0m\u001B[0;34m(\u001B[0m\u001B[0mself\u001B[0m\u001B[0;34m.\u001B[0m\u001B[0mmajorTicks\u001B[0m\u001B[0;34m)\u001B[0m \u001B[0;34m<\u001B[0m \u001B[0mnumticks\u001B[0m\u001B[0;34m:\u001B[0m\u001B[0;34m\u001B[0m\u001B[0;34m\u001B[0m\u001B[0m\n",
      "\u001B[0;32m~/data_science/env/lib/python3.10/site-packages/matplotlib/axis.py\u001B[0m in \u001B[0;36mget_majorticklocs\u001B[0;34m(self)\u001B[0m\n\u001B[1;32m   1275\u001B[0m     \u001B[0;32mdef\u001B[0m \u001B[0mget_majorticklocs\u001B[0m\u001B[0;34m(\u001B[0m\u001B[0mself\u001B[0m\u001B[0;34m)\u001B[0m\u001B[0;34m:\u001B[0m\u001B[0;34m\u001B[0m\u001B[0;34m\u001B[0m\u001B[0m\n\u001B[1;32m   1276\u001B[0m         \u001B[0;34m\"\"\"Return this Axis' major tick locations in data coordinates.\"\"\"\u001B[0m\u001B[0;34m\u001B[0m\u001B[0;34m\u001B[0m\u001B[0m\n\u001B[0;32m-> 1277\u001B[0;31m         \u001B[0;32mreturn\u001B[0m \u001B[0mself\u001B[0m\u001B[0;34m.\u001B[0m\u001B[0mmajor\u001B[0m\u001B[0;34m.\u001B[0m\u001B[0mlocator\u001B[0m\u001B[0;34m(\u001B[0m\u001B[0;34m)\u001B[0m\u001B[0;34m\u001B[0m\u001B[0;34m\u001B[0m\u001B[0m\n\u001B[0m\u001B[1;32m   1278\u001B[0m \u001B[0;34m\u001B[0m\u001B[0m\n\u001B[1;32m   1279\u001B[0m     \u001B[0;32mdef\u001B[0m \u001B[0mget_minorticklocs\u001B[0m\u001B[0;34m(\u001B[0m\u001B[0mself\u001B[0m\u001B[0;34m)\u001B[0m\u001B[0;34m:\u001B[0m\u001B[0;34m\u001B[0m\u001B[0;34m\u001B[0m\u001B[0m\n",
      "\u001B[0;32m~/data_science/env/lib/python3.10/site-packages/matplotlib/ticker.py\u001B[0m in \u001B[0;36m__call__\u001B[0;34m(self)\u001B[0m\n\u001B[1;32m   2112\u001B[0m     \u001B[0;32mdef\u001B[0m \u001B[0m__call__\u001B[0m\u001B[0;34m(\u001B[0m\u001B[0mself\u001B[0m\u001B[0;34m)\u001B[0m\u001B[0;34m:\u001B[0m\u001B[0;34m\u001B[0m\u001B[0;34m\u001B[0m\u001B[0m\n\u001B[1;32m   2113\u001B[0m         \u001B[0mvmin\u001B[0m\u001B[0;34m,\u001B[0m \u001B[0mvmax\u001B[0m \u001B[0;34m=\u001B[0m \u001B[0mself\u001B[0m\u001B[0;34m.\u001B[0m\u001B[0maxis\u001B[0m\u001B[0;34m.\u001B[0m\u001B[0mget_view_interval\u001B[0m\u001B[0;34m(\u001B[0m\u001B[0;34m)\u001B[0m\u001B[0;34m\u001B[0m\u001B[0;34m\u001B[0m\u001B[0m\n\u001B[0;32m-> 2114\u001B[0;31m         \u001B[0;32mreturn\u001B[0m \u001B[0mself\u001B[0m\u001B[0;34m.\u001B[0m\u001B[0mtick_values\u001B[0m\u001B[0;34m(\u001B[0m\u001B[0mvmin\u001B[0m\u001B[0;34m,\u001B[0m \u001B[0mvmax\u001B[0m\u001B[0;34m)\u001B[0m\u001B[0;34m\u001B[0m\u001B[0;34m\u001B[0m\u001B[0m\n\u001B[0m\u001B[1;32m   2115\u001B[0m \u001B[0;34m\u001B[0m\u001B[0m\n\u001B[1;32m   2116\u001B[0m     \u001B[0;32mdef\u001B[0m \u001B[0mtick_values\u001B[0m\u001B[0;34m(\u001B[0m\u001B[0mself\u001B[0m\u001B[0;34m,\u001B[0m \u001B[0mvmin\u001B[0m\u001B[0;34m,\u001B[0m \u001B[0mvmax\u001B[0m\u001B[0;34m)\u001B[0m\u001B[0;34m:\u001B[0m\u001B[0;34m\u001B[0m\u001B[0;34m\u001B[0m\u001B[0m\n",
      "\u001B[0;32m~/data_science/env/lib/python3.10/site-packages/matplotlib/ticker.py\u001B[0m in \u001B[0;36mtick_values\u001B[0;34m(self, vmin, vmax)\u001B[0m\n\u001B[1;32m   2118\u001B[0m             \u001B[0mvmax\u001B[0m \u001B[0;34m=\u001B[0m \u001B[0mmax\u001B[0m\u001B[0;34m(\u001B[0m\u001B[0mabs\u001B[0m\u001B[0;34m(\u001B[0m\u001B[0mvmin\u001B[0m\u001B[0;34m)\u001B[0m\u001B[0;34m,\u001B[0m \u001B[0mabs\u001B[0m\u001B[0;34m(\u001B[0m\u001B[0mvmax\u001B[0m\u001B[0;34m)\u001B[0m\u001B[0;34m)\u001B[0m\u001B[0;34m\u001B[0m\u001B[0;34m\u001B[0m\u001B[0m\n\u001B[1;32m   2119\u001B[0m             \u001B[0mvmin\u001B[0m \u001B[0;34m=\u001B[0m \u001B[0;34m-\u001B[0m\u001B[0mvmax\u001B[0m\u001B[0;34m\u001B[0m\u001B[0;34m\u001B[0m\u001B[0m\n\u001B[0;32m-> 2120\u001B[0;31m         vmin, vmax = mtransforms.nonsingular(\n\u001B[0m\u001B[1;32m   2121\u001B[0m             vmin, vmax, expander=1e-13, tiny=1e-14)\n\u001B[1;32m   2122\u001B[0m         \u001B[0mlocs\u001B[0m \u001B[0;34m=\u001B[0m \u001B[0mself\u001B[0m\u001B[0;34m.\u001B[0m\u001B[0m_raw_ticks\u001B[0m\u001B[0;34m(\u001B[0m\u001B[0mvmin\u001B[0m\u001B[0;34m,\u001B[0m \u001B[0mvmax\u001B[0m\u001B[0;34m)\u001B[0m\u001B[0;34m\u001B[0m\u001B[0;34m\u001B[0m\u001B[0m\n",
      "\u001B[0;32m~/data_science/env/lib/python3.10/site-packages/matplotlib/transforms.py\u001B[0m in \u001B[0;36mnonsingular\u001B[0;34m(vmin, vmax, expander, tiny, increasing)\u001B[0m\n\u001B[1;32m   2878\u001B[0m \u001B[0;34m\u001B[0m\u001B[0m\n\u001B[1;32m   2879\u001B[0m     \u001B[0mmaxabsvalue\u001B[0m \u001B[0;34m=\u001B[0m \u001B[0mmax\u001B[0m\u001B[0;34m(\u001B[0m\u001B[0mabs\u001B[0m\u001B[0;34m(\u001B[0m\u001B[0mvmin\u001B[0m\u001B[0;34m)\u001B[0m\u001B[0;34m,\u001B[0m \u001B[0mabs\u001B[0m\u001B[0;34m(\u001B[0m\u001B[0mvmax\u001B[0m\u001B[0;34m)\u001B[0m\u001B[0;34m)\u001B[0m\u001B[0;34m\u001B[0m\u001B[0;34m\u001B[0m\u001B[0m\n\u001B[0;32m-> 2880\u001B[0;31m     \u001B[0;32mif\u001B[0m \u001B[0mmaxabsvalue\u001B[0m \u001B[0;34m<\u001B[0m \u001B[0;34m(\u001B[0m\u001B[0;36m1e6\u001B[0m \u001B[0;34m/\u001B[0m \u001B[0mtiny\u001B[0m\u001B[0;34m)\u001B[0m \u001B[0;34m*\u001B[0m \u001B[0mnp\u001B[0m\u001B[0;34m.\u001B[0m\u001B[0mfinfo\u001B[0m\u001B[0;34m(\u001B[0m\u001B[0mfloat\u001B[0m\u001B[0;34m)\u001B[0m\u001B[0;34m.\u001B[0m\u001B[0mtiny\u001B[0m\u001B[0;34m:\u001B[0m\u001B[0;34m\u001B[0m\u001B[0;34m\u001B[0m\u001B[0m\n\u001B[0m\u001B[1;32m   2881\u001B[0m         \u001B[0mvmin\u001B[0m \u001B[0;34m=\u001B[0m \u001B[0;34m-\u001B[0m\u001B[0mexpander\u001B[0m\u001B[0;34m\u001B[0m\u001B[0;34m\u001B[0m\u001B[0m\n\u001B[1;32m   2882\u001B[0m         \u001B[0mvmax\u001B[0m \u001B[0;34m=\u001B[0m \u001B[0mexpander\u001B[0m\u001B[0;34m\u001B[0m\u001B[0;34m\u001B[0m\u001B[0m\n",
      "\u001B[0;32m~/data_science/env/lib/python3.10/site-packages/numpy/core/getlimits.py\u001B[0m in \u001B[0;36m__new__\u001B[0;34m(cls, dtype)\u001B[0m\n\u001B[1;32m    385\u001B[0m         \u001B[0;32mexcept\u001B[0m \u001B[0mTypeError\u001B[0m\u001B[0;34m:\u001B[0m\u001B[0;34m\u001B[0m\u001B[0;34m\u001B[0m\u001B[0m\n\u001B[1;32m    386\u001B[0m             \u001B[0;31m# In case a float instance was given\u001B[0m\u001B[0;34m\u001B[0m\u001B[0;34m\u001B[0m\u001B[0m\n\u001B[0;32m--> 387\u001B[0;31m             \u001B[0mdtype\u001B[0m \u001B[0;34m=\u001B[0m \u001B[0mnumeric\u001B[0m\u001B[0;34m.\u001B[0m\u001B[0mdtype\u001B[0m\u001B[0;34m(\u001B[0m\u001B[0mtype\u001B[0m\u001B[0;34m(\u001B[0m\u001B[0mdtype\u001B[0m\u001B[0;34m)\u001B[0m\u001B[0;34m)\u001B[0m\u001B[0;34m\u001B[0m\u001B[0;34m\u001B[0m\u001B[0m\n\u001B[0m\u001B[1;32m    388\u001B[0m \u001B[0;34m\u001B[0m\u001B[0m\n\u001B[1;32m    389\u001B[0m         \u001B[0mobj\u001B[0m \u001B[0;34m=\u001B[0m \u001B[0mcls\u001B[0m\u001B[0;34m.\u001B[0m\u001B[0m_finfo_cache\u001B[0m\u001B[0;34m.\u001B[0m\u001B[0mget\u001B[0m\u001B[0;34m(\u001B[0m\u001B[0mdtype\u001B[0m\u001B[0;34m,\u001B[0m \u001B[0;32mNone\u001B[0m\u001B[0;34m)\u001B[0m\u001B[0;34m\u001B[0m\u001B[0;34m\u001B[0m\u001B[0m\n",
      "\u001B[0;31mTypeError\u001B[0m: 'NoneType' object is not callable"
     ]
    }
   ],
   "source": [
    "data.plot(kind='hist', y='last_price')"
   ],
   "metadata": {
    "collapsed": false,
    "pycharm": {
     "name": "#%%\n"
    }
   }
  }
 ],
 "metadata": {
  "kernelspec": {
   "display_name": "Python 3",
   "language": "python",
   "name": "python3"
  },
  "language_info": {
   "codemirror_mode": {
    "name": "ipython",
    "version": 2
   },
   "file_extension": ".py",
   "mimetype": "text/x-python",
   "name": "python",
   "nbconvert_exporter": "python",
   "pygments_lexer": "ipython2",
   "version": "2.7.6"
  }
 },
 "nbformat": 4,
 "nbformat_minor": 0
}